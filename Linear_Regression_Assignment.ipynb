{
 "cells": [
  {
   "cell_type": "markdown",
   "metadata": {},
   "source": [
    "## Import Libraries"
   ]
  },
  {
   "cell_type": "code",
   "execution_count": 382,
   "metadata": {},
   "outputs": [],
   "source": [
    "# To ignore warnings\n",
    "import warnings\n",
    "warnings.filterwarnings(\"ignore\")\n",
    "import pandas as pd\n",
    "import numpy as np\n",
    "import matplotlib.pyplot as plt\n",
    "import seaborn as sns\n",
    "import plotly.express as px\n",
    "%matplotlib inline"
   ]
  },
  {
   "cell_type": "markdown",
   "metadata": {},
   "source": [
    "# Our Goal: to predict the price given a set of attributes."
   ]
  },
  {
   "cell_type": "markdown",
   "metadata": {},
   "source": [
    "## Load the Data"
   ]
  },
  {
   "cell_type": "code",
   "execution_count": 383,
   "metadata": {},
   "outputs": [],
   "source": [
    "from sklearn import datasets\n",
    "boston = datasets.load_boston()"
   ]
  },
  {
   "cell_type": "code",
   "execution_count": 384,
   "metadata": {},
   "outputs": [
    {
     "name": "stdout",
     "output_type": "stream",
     "text": [
      "Shape of data: (506, 13) (506,)\n"
     ]
    }
   ],
   "source": [
    "X_boston,y_boston = boston.data, boston.target\n",
    "print('Shape of data:', X_boston.shape, y_boston.shape)"
   ]
  },
  {
   "cell_type": "code",
   "execution_count": 385,
   "metadata": {},
   "outputs": [
    {
     "name": "stdout",
     "output_type": "stream",
     "text": [
      "Keys: dict_keys(['data', 'target', 'feature_names', 'DESCR', 'filename', 'data_module'])\n",
      "Feature names: ['CRIM' 'ZN' 'INDUS' 'CHAS' 'NOX' 'RM' 'AGE' 'DIS' 'RAD' 'TAX' 'PTRATIO'\n",
      " 'B' 'LSTAT']\n"
     ]
    }
   ],
   "source": [
    "print('Keys:', boston.keys())\n",
    "print('Feature names:',boston.feature_names)"
   ]
  },
  {
   "cell_type": "code",
   "execution_count": 386,
   "metadata": {},
   "outputs": [
    {
     "data": {
      "text/plain": [
       "array([24. , 21.6, 34.7, 33.4, 36.2, 28.7, 22.9, 27.1, 16.5, 18.9, 15. ,\n",
       "       18.9, 21.7, 20.4, 18.2, 19.9, 23.1, 17.5, 20.2, 18.2, 13.6, 19.6,\n",
       "       15.2, 14.5, 15.6, 13.9, 16.6, 14.8, 18.4, 21. , 12.7, 14.5, 13.2,\n",
       "       13.1, 13.5, 18.9, 20. , 21. , 24.7, 30.8, 34.9, 26.6, 25.3, 24.7,\n",
       "       21.2, 19.3, 20. , 16.6, 14.4, 19.4, 19.7, 20.5, 25. , 23.4, 18.9,\n",
       "       35.4, 24.7, 31.6, 23.3, 19.6, 18.7, 16. , 22.2, 25. , 33. , 23.5,\n",
       "       19.4, 22. , 17.4, 20.9, 24.2, 21.7, 22.8, 23.4, 24.1, 21.4, 20. ,\n",
       "       20.8, 21.2, 20.3, 28. , 23.9, 24.8, 22.9, 23.9, 26.6, 22.5, 22.2,\n",
       "       23.6, 28.7, 22.6, 22. , 22.9, 25. , 20.6, 28.4, 21.4, 38.7, 43.8,\n",
       "       33.2, 27.5, 26.5, 18.6, 19.3, 20.1, 19.5, 19.5, 20.4, 19.8, 19.4,\n",
       "       21.7, 22.8, 18.8, 18.7, 18.5, 18.3, 21.2, 19.2, 20.4, 19.3, 22. ,\n",
       "       20.3, 20.5, 17.3, 18.8, 21.4, 15.7, 16.2, 18. , 14.3, 19.2, 19.6,\n",
       "       23. , 18.4, 15.6, 18.1, 17.4, 17.1, 13.3, 17.8, 14. , 14.4, 13.4,\n",
       "       15.6, 11.8, 13.8, 15.6, 14.6, 17.8, 15.4, 21.5, 19.6, 15.3, 19.4,\n",
       "       17. , 15.6, 13.1, 41.3, 24.3, 23.3, 27. , 50. , 50. , 50. , 22.7,\n",
       "       25. , 50. , 23.8, 23.8, 22.3, 17.4, 19.1, 23.1, 23.6, 22.6, 29.4,\n",
       "       23.2, 24.6, 29.9, 37.2, 39.8, 36.2, 37.9, 32.5, 26.4, 29.6, 50. ,\n",
       "       32. , 29.8, 34.9, 37. , 30.5, 36.4, 31.1, 29.1, 50. , 33.3, 30.3,\n",
       "       34.6, 34.9, 32.9, 24.1, 42.3, 48.5, 50. , 22.6, 24.4, 22.5, 24.4,\n",
       "       20. , 21.7, 19.3, 22.4, 28.1, 23.7, 25. , 23.3, 28.7, 21.5, 23. ,\n",
       "       26.7, 21.7, 27.5, 30.1, 44.8, 50. , 37.6, 31.6, 46.7, 31.5, 24.3,\n",
       "       31.7, 41.7, 48.3, 29. , 24. , 25.1, 31.5, 23.7, 23.3, 22. , 20.1,\n",
       "       22.2, 23.7, 17.6, 18.5, 24.3, 20.5, 24.5, 26.2, 24.4, 24.8, 29.6,\n",
       "       42.8, 21.9, 20.9, 44. , 50. , 36. , 30.1, 33.8, 43.1, 48.8, 31. ,\n",
       "       36.5, 22.8, 30.7, 50. , 43.5, 20.7, 21.1, 25.2, 24.4, 35.2, 32.4,\n",
       "       32. , 33.2, 33.1, 29.1, 35.1, 45.4, 35.4, 46. , 50. , 32.2, 22. ,\n",
       "       20.1, 23.2, 22.3, 24.8, 28.5, 37.3, 27.9, 23.9, 21.7, 28.6, 27.1,\n",
       "       20.3, 22.5, 29. , 24.8, 22. , 26.4, 33.1, 36.1, 28.4, 33.4, 28.2,\n",
       "       22.8, 20.3, 16.1, 22.1, 19.4, 21.6, 23.8, 16.2, 17.8, 19.8, 23.1,\n",
       "       21. , 23.8, 23.1, 20.4, 18.5, 25. , 24.6, 23. , 22.2, 19.3, 22.6,\n",
       "       19.8, 17.1, 19.4, 22.2, 20.7, 21.1, 19.5, 18.5, 20.6, 19. , 18.7,\n",
       "       32.7, 16.5, 23.9, 31.2, 17.5, 17.2, 23.1, 24.5, 26.6, 22.9, 24.1,\n",
       "       18.6, 30.1, 18.2, 20.6, 17.8, 21.7, 22.7, 22.6, 25. , 19.9, 20.8,\n",
       "       16.8, 21.9, 27.5, 21.9, 23.1, 50. , 50. , 50. , 50. , 50. , 13.8,\n",
       "       13.8, 15. , 13.9, 13.3, 13.1, 10.2, 10.4, 10.9, 11.3, 12.3,  8.8,\n",
       "        7.2, 10.5,  7.4, 10.2, 11.5, 15.1, 23.2,  9.7, 13.8, 12.7, 13.1,\n",
       "       12.5,  8.5,  5. ,  6.3,  5.6,  7.2, 12.1,  8.3,  8.5,  5. , 11.9,\n",
       "       27.9, 17.2, 27.5, 15. , 17.2, 17.9, 16.3,  7. ,  7.2,  7.5, 10.4,\n",
       "        8.8,  8.4, 16.7, 14.2, 20.8, 13.4, 11.7,  8.3, 10.2, 10.9, 11. ,\n",
       "        9.5, 14.5, 14.1, 16.1, 14.3, 11.7, 13.4,  9.6,  8.7,  8.4, 12.8,\n",
       "       10.5, 17.1, 18.4, 15.4, 10.8, 11.8, 14.9, 12.6, 14.1, 13. , 13.4,\n",
       "       15.2, 16.1, 17.8, 14.9, 14.1, 12.7, 13.5, 14.9, 20. , 16.4, 17.7,\n",
       "       19.5, 20.2, 21.4, 19.9, 19. , 19.1, 19.1, 20.1, 19.9, 19.6, 23.2,\n",
       "       29.8, 13.8, 13.3, 16.7, 12. , 14.6, 21.4, 23. , 23.7, 25. , 21.8,\n",
       "       20.6, 21.2, 19.1, 20.6, 15.2,  7. ,  8.1, 13.6, 20.1, 21.8, 24.5,\n",
       "       23.1, 19.7, 18.3, 21.2, 17.5, 16.8, 22.4, 20.6, 23.9, 22. , 11.9])"
      ]
     },
     "execution_count": 386,
     "metadata": {},
     "output_type": "execute_result"
    }
   ],
   "source": [
    "boston.target"
   ]
  },
  {
   "cell_type": "code",
   "execution_count": 387,
   "metadata": {},
   "outputs": [
    {
     "name": "stdout",
     "output_type": "stream",
     "text": [
      ".. _boston_dataset:\n",
      "\n",
      "Boston house prices dataset\n",
      "---------------------------\n",
      "\n",
      "**Data Set Characteristics:**  \n",
      "\n",
      "    :Number of Instances: 506 \n",
      "\n",
      "    :Number of Attributes: 13 numeric/categorical predictive. Median Value (attribute 14) is usually the target.\n",
      "\n",
      "    :Attribute Information (in order):\n",
      "        - CRIM     per capita crime rate by town\n",
      "        - ZN       proportion of residential land zoned for lots over 25,000 sq.ft.\n",
      "        - INDUS    proportion of non-retail business acres per town\n",
      "        - CHAS     Charles River dummy variable (= 1 if tract bounds river; 0 otherwise)\n",
      "        - NOX      nitric oxides concentration (parts per 10 million)\n",
      "        - RM       average number of rooms per dwelling\n",
      "        - AGE      proportion of owner-occupied units built prior to 1940\n",
      "        - DIS      weighted distances to five Boston employment centres\n",
      "        - RAD      index of accessibility to radial highways\n",
      "        - TAX      full-value property-tax rate per $10,000\n",
      "        - PTRATIO  pupil-teacher ratio by town\n",
      "        - B        1000(Bk - 0.63)^2 where Bk is the proportion of black people by town\n",
      "        - LSTAT    % lower status of the population\n",
      "        - MEDV     Median value of owner-occupied homes in $1000's\n",
      "\n",
      "    :Missing Attribute Values: None\n",
      "\n",
      "    :Creator: Harrison, D. and Rubinfeld, D.L.\n",
      "\n",
      "This is a copy of UCI ML housing dataset.\n",
      "https://archive.ics.uci.edu/ml/machine-learning-databases/housing/\n",
      "\n",
      "\n",
      "This dataset was taken from the StatLib library which is maintained at Carnegie Mellon University.\n",
      "\n",
      "The Boston house-price data of Harrison, D. and Rubinfeld, D.L. 'Hedonic\n",
      "prices and the demand for clean air', J. Environ. Economics & Management,\n",
      "vol.5, 81-102, 1978.   Used in Belsley, Kuh & Welsch, 'Regression diagnostics\n",
      "...', Wiley, 1980.   N.B. Various transformations are used in the table on\n",
      "pages 244-261 of the latter.\n",
      "\n",
      "The Boston house-price data has been used in many machine learning papers that address regression\n",
      "problems.   \n",
      "     \n",
      ".. topic:: References\n",
      "\n",
      "   - Belsley, Kuh & Welsch, 'Regression diagnostics: Identifying Influential Data and Sources of Collinearity', Wiley, 1980. 244-261.\n",
      "   - Quinlan,R. (1993). Combining Instance-Based and Model-Based Learning. In Proceedings on the Tenth International Conference of Machine Learning, 236-243, University of Massachusetts, Amherst. Morgan Kaufmann.\n",
      "\n"
     ]
    }
   ],
   "source": [
    "print(boston.DESCR)"
   ]
  },
  {
   "cell_type": "markdown",
   "metadata": {},
   "source": [
    "## EDA (Exploratory Data Analysis)"
   ]
  },
  {
   "cell_type": "markdown",
   "metadata": {},
   "source": [
    "## Q1: Create a dataframe and Save that dataset inside it."
   ]
  },
  {
   "cell_type": "code",
   "execution_count": 388,
   "metadata": {},
   "outputs": [],
   "source": [
    "from sklearn.datasets import load_boston\n",
    "boston = load_boston()\n",
    "\n",
    "data = np.c_[boston['data'], boston['target']]\n",
    "columns = np.append(boston['feature_names'], 'PRICE')\n",
    "X , y = boston['data'] , boston['target']\n",
    "\n",
    "df= pd.DataFrame(data, columns= columns)\n"
   ]
  },
  {
   "cell_type": "markdown",
   "metadata": {},
   "source": [
    "## Q2: Print the head rows of the dataframe."
   ]
  },
  {
   "cell_type": "code",
   "execution_count": 389,
   "metadata": {},
   "outputs": [
    {
     "data": {
      "text/html": [
       "<div>\n",
       "<style scoped>\n",
       "    .dataframe tbody tr th:only-of-type {\n",
       "        vertical-align: middle;\n",
       "    }\n",
       "\n",
       "    .dataframe tbody tr th {\n",
       "        vertical-align: top;\n",
       "    }\n",
       "\n",
       "    .dataframe thead th {\n",
       "        text-align: right;\n",
       "    }\n",
       "</style>\n",
       "<table border=\"1\" class=\"dataframe\">\n",
       "  <thead>\n",
       "    <tr style=\"text-align: right;\">\n",
       "      <th></th>\n",
       "      <th>CRIM</th>\n",
       "      <th>ZN</th>\n",
       "      <th>INDUS</th>\n",
       "      <th>CHAS</th>\n",
       "      <th>NOX</th>\n",
       "      <th>RM</th>\n",
       "      <th>AGE</th>\n",
       "      <th>DIS</th>\n",
       "      <th>RAD</th>\n",
       "      <th>TAX</th>\n",
       "      <th>PTRATIO</th>\n",
       "      <th>B</th>\n",
       "      <th>LSTAT</th>\n",
       "      <th>PRICE</th>\n",
       "    </tr>\n",
       "  </thead>\n",
       "  <tbody>\n",
       "    <tr>\n",
       "      <th>0</th>\n",
       "      <td>0.00632</td>\n",
       "      <td>18.0</td>\n",
       "      <td>2.31</td>\n",
       "      <td>0.0</td>\n",
       "      <td>0.538</td>\n",
       "      <td>6.575</td>\n",
       "      <td>65.2</td>\n",
       "      <td>4.0900</td>\n",
       "      <td>1.0</td>\n",
       "      <td>296.0</td>\n",
       "      <td>15.3</td>\n",
       "      <td>396.90</td>\n",
       "      <td>4.98</td>\n",
       "      <td>24.0</td>\n",
       "    </tr>\n",
       "    <tr>\n",
       "      <th>1</th>\n",
       "      <td>0.02731</td>\n",
       "      <td>0.0</td>\n",
       "      <td>7.07</td>\n",
       "      <td>0.0</td>\n",
       "      <td>0.469</td>\n",
       "      <td>6.421</td>\n",
       "      <td>78.9</td>\n",
       "      <td>4.9671</td>\n",
       "      <td>2.0</td>\n",
       "      <td>242.0</td>\n",
       "      <td>17.8</td>\n",
       "      <td>396.90</td>\n",
       "      <td>9.14</td>\n",
       "      <td>21.6</td>\n",
       "    </tr>\n",
       "    <tr>\n",
       "      <th>2</th>\n",
       "      <td>0.02729</td>\n",
       "      <td>0.0</td>\n",
       "      <td>7.07</td>\n",
       "      <td>0.0</td>\n",
       "      <td>0.469</td>\n",
       "      <td>7.185</td>\n",
       "      <td>61.1</td>\n",
       "      <td>4.9671</td>\n",
       "      <td>2.0</td>\n",
       "      <td>242.0</td>\n",
       "      <td>17.8</td>\n",
       "      <td>392.83</td>\n",
       "      <td>4.03</td>\n",
       "      <td>34.7</td>\n",
       "    </tr>\n",
       "    <tr>\n",
       "      <th>3</th>\n",
       "      <td>0.03237</td>\n",
       "      <td>0.0</td>\n",
       "      <td>2.18</td>\n",
       "      <td>0.0</td>\n",
       "      <td>0.458</td>\n",
       "      <td>6.998</td>\n",
       "      <td>45.8</td>\n",
       "      <td>6.0622</td>\n",
       "      <td>3.0</td>\n",
       "      <td>222.0</td>\n",
       "      <td>18.7</td>\n",
       "      <td>394.63</td>\n",
       "      <td>2.94</td>\n",
       "      <td>33.4</td>\n",
       "    </tr>\n",
       "    <tr>\n",
       "      <th>4</th>\n",
       "      <td>0.06905</td>\n",
       "      <td>0.0</td>\n",
       "      <td>2.18</td>\n",
       "      <td>0.0</td>\n",
       "      <td>0.458</td>\n",
       "      <td>7.147</td>\n",
       "      <td>54.2</td>\n",
       "      <td>6.0622</td>\n",
       "      <td>3.0</td>\n",
       "      <td>222.0</td>\n",
       "      <td>18.7</td>\n",
       "      <td>396.90</td>\n",
       "      <td>5.33</td>\n",
       "      <td>36.2</td>\n",
       "    </tr>\n",
       "  </tbody>\n",
       "</table>\n",
       "</div>"
      ],
      "text/plain": [
       "      CRIM    ZN  INDUS  CHAS    NOX     RM   AGE     DIS  RAD    TAX  \\\n",
       "0  0.00632  18.0   2.31   0.0  0.538  6.575  65.2  4.0900  1.0  296.0   \n",
       "1  0.02731   0.0   7.07   0.0  0.469  6.421  78.9  4.9671  2.0  242.0   \n",
       "2  0.02729   0.0   7.07   0.0  0.469  7.185  61.1  4.9671  2.0  242.0   \n",
       "3  0.03237   0.0   2.18   0.0  0.458  6.998  45.8  6.0622  3.0  222.0   \n",
       "4  0.06905   0.0   2.18   0.0  0.458  7.147  54.2  6.0622  3.0  222.0   \n",
       "\n",
       "   PTRATIO       B  LSTAT  PRICE  \n",
       "0     15.3  396.90   4.98   24.0  \n",
       "1     17.8  396.90   9.14   21.6  \n",
       "2     17.8  392.83   4.03   34.7  \n",
       "3     18.7  394.63   2.94   33.4  \n",
       "4     18.7  396.90   5.33   36.2  "
      ]
     },
     "execution_count": 389,
     "metadata": {},
     "output_type": "execute_result"
    }
   ],
   "source": [
    "df.head()"
   ]
  },
  {
   "cell_type": "markdown",
   "metadata": {},
   "source": [
    "## Q3: Use histogram to show the distribution of House Prices."
   ]
  },
  {
   "cell_type": "code",
   "execution_count": 390,
   "metadata": {},
   "outputs": [
    {
     "data": {
      "application/vnd.plotly.v1+json": {
       "config": {
        "plotlyServerURL": "https://plot.ly"
       },
       "data": [
        {
         "alignmentgroup": "True",
         "bingroup": "x",
         "hovertemplate": "variable=PRICE<br>value=%{x}<br>count=%{y}<extra></extra>",
         "legendgroup": "PRICE",
         "marker": {
          "color": "#636efa",
          "pattern": {
           "shape": ""
          }
         },
         "name": "PRICE",
         "offsetgroup": "PRICE",
         "orientation": "v",
         "showlegend": true,
         "type": "histogram",
         "x": [
          24,
          21.6,
          34.7,
          33.4,
          36.2,
          28.7,
          22.9,
          27.1,
          16.5,
          18.9,
          15,
          18.9,
          21.7,
          20.4,
          18.2,
          19.9,
          23.1,
          17.5,
          20.2,
          18.2,
          13.6,
          19.6,
          15.2,
          14.5,
          15.6,
          13.9,
          16.6,
          14.8,
          18.4,
          21,
          12.7,
          14.5,
          13.2,
          13.1,
          13.5,
          18.9,
          20,
          21,
          24.7,
          30.8,
          34.9,
          26.6,
          25.3,
          24.7,
          21.2,
          19.3,
          20,
          16.6,
          14.4,
          19.4,
          19.7,
          20.5,
          25,
          23.4,
          18.9,
          35.4,
          24.7,
          31.6,
          23.3,
          19.6,
          18.7,
          16,
          22.2,
          25,
          33,
          23.5,
          19.4,
          22,
          17.4,
          20.9,
          24.2,
          21.7,
          22.8,
          23.4,
          24.1,
          21.4,
          20,
          20.8,
          21.2,
          20.3,
          28,
          23.9,
          24.8,
          22.9,
          23.9,
          26.6,
          22.5,
          22.2,
          23.6,
          28.7,
          22.6,
          22,
          22.9,
          25,
          20.6,
          28.4,
          21.4,
          38.7,
          43.8,
          33.2,
          27.5,
          26.5,
          18.6,
          19.3,
          20.1,
          19.5,
          19.5,
          20.4,
          19.8,
          19.4,
          21.7,
          22.8,
          18.8,
          18.7,
          18.5,
          18.3,
          21.2,
          19.2,
          20.4,
          19.3,
          22,
          20.3,
          20.5,
          17.3,
          18.8,
          21.4,
          15.7,
          16.2,
          18,
          14.3,
          19.2,
          19.6,
          23,
          18.4,
          15.6,
          18.1,
          17.4,
          17.1,
          13.3,
          17.8,
          14,
          14.4,
          13.4,
          15.6,
          11.8,
          13.8,
          15.6,
          14.6,
          17.8,
          15.4,
          21.5,
          19.6,
          15.3,
          19.4,
          17,
          15.6,
          13.1,
          41.3,
          24.3,
          23.3,
          27,
          50,
          50,
          50,
          22.7,
          25,
          50,
          23.8,
          23.8,
          22.3,
          17.4,
          19.1,
          23.1,
          23.6,
          22.6,
          29.4,
          23.2,
          24.6,
          29.9,
          37.2,
          39.8,
          36.2,
          37.9,
          32.5,
          26.4,
          29.6,
          50,
          32,
          29.8,
          34.9,
          37,
          30.5,
          36.4,
          31.1,
          29.1,
          50,
          33.3,
          30.3,
          34.6,
          34.9,
          32.9,
          24.1,
          42.3,
          48.5,
          50,
          22.6,
          24.4,
          22.5,
          24.4,
          20,
          21.7,
          19.3,
          22.4,
          28.1,
          23.7,
          25,
          23.3,
          28.7,
          21.5,
          23,
          26.7,
          21.7,
          27.5,
          30.1,
          44.8,
          50,
          37.6,
          31.6,
          46.7,
          31.5,
          24.3,
          31.7,
          41.7,
          48.3,
          29,
          24,
          25.1,
          31.5,
          23.7,
          23.3,
          22,
          20.1,
          22.2,
          23.7,
          17.6,
          18.5,
          24.3,
          20.5,
          24.5,
          26.2,
          24.4,
          24.8,
          29.6,
          42.8,
          21.9,
          20.9,
          44,
          50,
          36,
          30.1,
          33.8,
          43.1,
          48.8,
          31,
          36.5,
          22.8,
          30.7,
          50,
          43.5,
          20.7,
          21.1,
          25.2,
          24.4,
          35.2,
          32.4,
          32,
          33.2,
          33.1,
          29.1,
          35.1,
          45.4,
          35.4,
          46,
          50,
          32.2,
          22,
          20.1,
          23.2,
          22.3,
          24.8,
          28.5,
          37.3,
          27.9,
          23.9,
          21.7,
          28.6,
          27.1,
          20.3,
          22.5,
          29,
          24.8,
          22,
          26.4,
          33.1,
          36.1,
          28.4,
          33.4,
          28.2,
          22.8,
          20.3,
          16.1,
          22.1,
          19.4,
          21.6,
          23.8,
          16.2,
          17.8,
          19.8,
          23.1,
          21,
          23.8,
          23.1,
          20.4,
          18.5,
          25,
          24.6,
          23,
          22.2,
          19.3,
          22.6,
          19.8,
          17.1,
          19.4,
          22.2,
          20.7,
          21.1,
          19.5,
          18.5,
          20.6,
          19,
          18.7,
          32.7,
          16.5,
          23.9,
          31.2,
          17.5,
          17.2,
          23.1,
          24.5,
          26.6,
          22.9,
          24.1,
          18.6,
          30.1,
          18.2,
          20.6,
          17.8,
          21.7,
          22.7,
          22.6,
          25,
          19.9,
          20.8,
          16.8,
          21.9,
          27.5,
          21.9,
          23.1,
          50,
          50,
          50,
          50,
          50,
          13.8,
          13.8,
          15,
          13.9,
          13.3,
          13.1,
          10.2,
          10.4,
          10.9,
          11.3,
          12.3,
          8.8,
          7.2,
          10.5,
          7.4,
          10.2,
          11.5,
          15.1,
          23.2,
          9.7,
          13.8,
          12.7,
          13.1,
          12.5,
          8.5,
          5,
          6.3,
          5.6,
          7.2,
          12.1,
          8.3,
          8.5,
          5,
          11.9,
          27.9,
          17.2,
          27.5,
          15,
          17.2,
          17.9,
          16.3,
          7,
          7.2,
          7.5,
          10.4,
          8.8,
          8.4,
          16.7,
          14.2,
          20.8,
          13.4,
          11.7,
          8.3,
          10.2,
          10.9,
          11,
          9.5,
          14.5,
          14.1,
          16.1,
          14.3,
          11.7,
          13.4,
          9.6,
          8.7,
          8.4,
          12.8,
          10.5,
          17.1,
          18.4,
          15.4,
          10.8,
          11.8,
          14.9,
          12.6,
          14.1,
          13,
          13.4,
          15.2,
          16.1,
          17.8,
          14.9,
          14.1,
          12.7,
          13.5,
          14.9,
          20,
          16.4,
          17.7,
          19.5,
          20.2,
          21.4,
          19.9,
          19,
          19.1,
          19.1,
          20.1,
          19.9,
          19.6,
          23.2,
          29.8,
          13.8,
          13.3,
          16.7,
          12,
          14.6,
          21.4,
          23,
          23.7,
          25,
          21.8,
          20.6,
          21.2,
          19.1,
          20.6,
          15.2,
          7,
          8.1,
          13.6,
          20.1,
          21.8,
          24.5,
          23.1,
          19.7,
          18.3,
          21.2,
          17.5,
          16.8,
          22.4,
          20.6,
          23.9,
          22,
          11.9
         ],
         "xaxis": "x",
         "yaxis": "y"
        }
       ],
       "layout": {
        "barmode": "relative",
        "legend": {
         "title": {
          "text": "variable"
         },
         "tracegroupgap": 0
        },
        "margin": {
         "t": 60
        },
        "template": {
         "data": {
          "bar": [
           {
            "error_x": {
             "color": "#2a3f5f"
            },
            "error_y": {
             "color": "#2a3f5f"
            },
            "marker": {
             "line": {
              "color": "#E5ECF6",
              "width": 0.5
             },
             "pattern": {
              "fillmode": "overlay",
              "size": 10,
              "solidity": 0.2
             }
            },
            "type": "bar"
           }
          ],
          "barpolar": [
           {
            "marker": {
             "line": {
              "color": "#E5ECF6",
              "width": 0.5
             },
             "pattern": {
              "fillmode": "overlay",
              "size": 10,
              "solidity": 0.2
             }
            },
            "type": "barpolar"
           }
          ],
          "carpet": [
           {
            "aaxis": {
             "endlinecolor": "#2a3f5f",
             "gridcolor": "white",
             "linecolor": "white",
             "minorgridcolor": "white",
             "startlinecolor": "#2a3f5f"
            },
            "baxis": {
             "endlinecolor": "#2a3f5f",
             "gridcolor": "white",
             "linecolor": "white",
             "minorgridcolor": "white",
             "startlinecolor": "#2a3f5f"
            },
            "type": "carpet"
           }
          ],
          "choropleth": [
           {
            "colorbar": {
             "outlinewidth": 0,
             "ticks": ""
            },
            "type": "choropleth"
           }
          ],
          "contour": [
           {
            "colorbar": {
             "outlinewidth": 0,
             "ticks": ""
            },
            "colorscale": [
             [
              0,
              "#0d0887"
             ],
             [
              0.1111111111111111,
              "#46039f"
             ],
             [
              0.2222222222222222,
              "#7201a8"
             ],
             [
              0.3333333333333333,
              "#9c179e"
             ],
             [
              0.4444444444444444,
              "#bd3786"
             ],
             [
              0.5555555555555556,
              "#d8576b"
             ],
             [
              0.6666666666666666,
              "#ed7953"
             ],
             [
              0.7777777777777778,
              "#fb9f3a"
             ],
             [
              0.8888888888888888,
              "#fdca26"
             ],
             [
              1,
              "#f0f921"
             ]
            ],
            "type": "contour"
           }
          ],
          "contourcarpet": [
           {
            "colorbar": {
             "outlinewidth": 0,
             "ticks": ""
            },
            "type": "contourcarpet"
           }
          ],
          "heatmap": [
           {
            "colorbar": {
             "outlinewidth": 0,
             "ticks": ""
            },
            "colorscale": [
             [
              0,
              "#0d0887"
             ],
             [
              0.1111111111111111,
              "#46039f"
             ],
             [
              0.2222222222222222,
              "#7201a8"
             ],
             [
              0.3333333333333333,
              "#9c179e"
             ],
             [
              0.4444444444444444,
              "#bd3786"
             ],
             [
              0.5555555555555556,
              "#d8576b"
             ],
             [
              0.6666666666666666,
              "#ed7953"
             ],
             [
              0.7777777777777778,
              "#fb9f3a"
             ],
             [
              0.8888888888888888,
              "#fdca26"
             ],
             [
              1,
              "#f0f921"
             ]
            ],
            "type": "heatmap"
           }
          ],
          "heatmapgl": [
           {
            "colorbar": {
             "outlinewidth": 0,
             "ticks": ""
            },
            "colorscale": [
             [
              0,
              "#0d0887"
             ],
             [
              0.1111111111111111,
              "#46039f"
             ],
             [
              0.2222222222222222,
              "#7201a8"
             ],
             [
              0.3333333333333333,
              "#9c179e"
             ],
             [
              0.4444444444444444,
              "#bd3786"
             ],
             [
              0.5555555555555556,
              "#d8576b"
             ],
             [
              0.6666666666666666,
              "#ed7953"
             ],
             [
              0.7777777777777778,
              "#fb9f3a"
             ],
             [
              0.8888888888888888,
              "#fdca26"
             ],
             [
              1,
              "#f0f921"
             ]
            ],
            "type": "heatmapgl"
           }
          ],
          "histogram": [
           {
            "marker": {
             "pattern": {
              "fillmode": "overlay",
              "size": 10,
              "solidity": 0.2
             }
            },
            "type": "histogram"
           }
          ],
          "histogram2d": [
           {
            "colorbar": {
             "outlinewidth": 0,
             "ticks": ""
            },
            "colorscale": [
             [
              0,
              "#0d0887"
             ],
             [
              0.1111111111111111,
              "#46039f"
             ],
             [
              0.2222222222222222,
              "#7201a8"
             ],
             [
              0.3333333333333333,
              "#9c179e"
             ],
             [
              0.4444444444444444,
              "#bd3786"
             ],
             [
              0.5555555555555556,
              "#d8576b"
             ],
             [
              0.6666666666666666,
              "#ed7953"
             ],
             [
              0.7777777777777778,
              "#fb9f3a"
             ],
             [
              0.8888888888888888,
              "#fdca26"
             ],
             [
              1,
              "#f0f921"
             ]
            ],
            "type": "histogram2d"
           }
          ],
          "histogram2dcontour": [
           {
            "colorbar": {
             "outlinewidth": 0,
             "ticks": ""
            },
            "colorscale": [
             [
              0,
              "#0d0887"
             ],
             [
              0.1111111111111111,
              "#46039f"
             ],
             [
              0.2222222222222222,
              "#7201a8"
             ],
             [
              0.3333333333333333,
              "#9c179e"
             ],
             [
              0.4444444444444444,
              "#bd3786"
             ],
             [
              0.5555555555555556,
              "#d8576b"
             ],
             [
              0.6666666666666666,
              "#ed7953"
             ],
             [
              0.7777777777777778,
              "#fb9f3a"
             ],
             [
              0.8888888888888888,
              "#fdca26"
             ],
             [
              1,
              "#f0f921"
             ]
            ],
            "type": "histogram2dcontour"
           }
          ],
          "mesh3d": [
           {
            "colorbar": {
             "outlinewidth": 0,
             "ticks": ""
            },
            "type": "mesh3d"
           }
          ],
          "parcoords": [
           {
            "line": {
             "colorbar": {
              "outlinewidth": 0,
              "ticks": ""
             }
            },
            "type": "parcoords"
           }
          ],
          "pie": [
           {
            "automargin": true,
            "type": "pie"
           }
          ],
          "scatter": [
           {
            "fillpattern": {
             "fillmode": "overlay",
             "size": 10,
             "solidity": 0.2
            },
            "type": "scatter"
           }
          ],
          "scatter3d": [
           {
            "line": {
             "colorbar": {
              "outlinewidth": 0,
              "ticks": ""
             }
            },
            "marker": {
             "colorbar": {
              "outlinewidth": 0,
              "ticks": ""
             }
            },
            "type": "scatter3d"
           }
          ],
          "scattercarpet": [
           {
            "marker": {
             "colorbar": {
              "outlinewidth": 0,
              "ticks": ""
             }
            },
            "type": "scattercarpet"
           }
          ],
          "scattergeo": [
           {
            "marker": {
             "colorbar": {
              "outlinewidth": 0,
              "ticks": ""
             }
            },
            "type": "scattergeo"
           }
          ],
          "scattergl": [
           {
            "marker": {
             "colorbar": {
              "outlinewidth": 0,
              "ticks": ""
             }
            },
            "type": "scattergl"
           }
          ],
          "scattermapbox": [
           {
            "marker": {
             "colorbar": {
              "outlinewidth": 0,
              "ticks": ""
             }
            },
            "type": "scattermapbox"
           }
          ],
          "scatterpolar": [
           {
            "marker": {
             "colorbar": {
              "outlinewidth": 0,
              "ticks": ""
             }
            },
            "type": "scatterpolar"
           }
          ],
          "scatterpolargl": [
           {
            "marker": {
             "colorbar": {
              "outlinewidth": 0,
              "ticks": ""
             }
            },
            "type": "scatterpolargl"
           }
          ],
          "scatterternary": [
           {
            "marker": {
             "colorbar": {
              "outlinewidth": 0,
              "ticks": ""
             }
            },
            "type": "scatterternary"
           }
          ],
          "surface": [
           {
            "colorbar": {
             "outlinewidth": 0,
             "ticks": ""
            },
            "colorscale": [
             [
              0,
              "#0d0887"
             ],
             [
              0.1111111111111111,
              "#46039f"
             ],
             [
              0.2222222222222222,
              "#7201a8"
             ],
             [
              0.3333333333333333,
              "#9c179e"
             ],
             [
              0.4444444444444444,
              "#bd3786"
             ],
             [
              0.5555555555555556,
              "#d8576b"
             ],
             [
              0.6666666666666666,
              "#ed7953"
             ],
             [
              0.7777777777777778,
              "#fb9f3a"
             ],
             [
              0.8888888888888888,
              "#fdca26"
             ],
             [
              1,
              "#f0f921"
             ]
            ],
            "type": "surface"
           }
          ],
          "table": [
           {
            "cells": {
             "fill": {
              "color": "#EBF0F8"
             },
             "line": {
              "color": "white"
             }
            },
            "header": {
             "fill": {
              "color": "#C8D4E3"
             },
             "line": {
              "color": "white"
             }
            },
            "type": "table"
           }
          ]
         },
         "layout": {
          "annotationdefaults": {
           "arrowcolor": "#2a3f5f",
           "arrowhead": 0,
           "arrowwidth": 1
          },
          "autotypenumbers": "strict",
          "coloraxis": {
           "colorbar": {
            "outlinewidth": 0,
            "ticks": ""
           }
          },
          "colorscale": {
           "diverging": [
            [
             0,
             "#8e0152"
            ],
            [
             0.1,
             "#c51b7d"
            ],
            [
             0.2,
             "#de77ae"
            ],
            [
             0.3,
             "#f1b6da"
            ],
            [
             0.4,
             "#fde0ef"
            ],
            [
             0.5,
             "#f7f7f7"
            ],
            [
             0.6,
             "#e6f5d0"
            ],
            [
             0.7,
             "#b8e186"
            ],
            [
             0.8,
             "#7fbc41"
            ],
            [
             0.9,
             "#4d9221"
            ],
            [
             1,
             "#276419"
            ]
           ],
           "sequential": [
            [
             0,
             "#0d0887"
            ],
            [
             0.1111111111111111,
             "#46039f"
            ],
            [
             0.2222222222222222,
             "#7201a8"
            ],
            [
             0.3333333333333333,
             "#9c179e"
            ],
            [
             0.4444444444444444,
             "#bd3786"
            ],
            [
             0.5555555555555556,
             "#d8576b"
            ],
            [
             0.6666666666666666,
             "#ed7953"
            ],
            [
             0.7777777777777778,
             "#fb9f3a"
            ],
            [
             0.8888888888888888,
             "#fdca26"
            ],
            [
             1,
             "#f0f921"
            ]
           ],
           "sequentialminus": [
            [
             0,
             "#0d0887"
            ],
            [
             0.1111111111111111,
             "#46039f"
            ],
            [
             0.2222222222222222,
             "#7201a8"
            ],
            [
             0.3333333333333333,
             "#9c179e"
            ],
            [
             0.4444444444444444,
             "#bd3786"
            ],
            [
             0.5555555555555556,
             "#d8576b"
            ],
            [
             0.6666666666666666,
             "#ed7953"
            ],
            [
             0.7777777777777778,
             "#fb9f3a"
            ],
            [
             0.8888888888888888,
             "#fdca26"
            ],
            [
             1,
             "#f0f921"
            ]
           ]
          },
          "colorway": [
           "#636efa",
           "#EF553B",
           "#00cc96",
           "#ab63fa",
           "#FFA15A",
           "#19d3f3",
           "#FF6692",
           "#B6E880",
           "#FF97FF",
           "#FECB52"
          ],
          "font": {
           "color": "#2a3f5f"
          },
          "geo": {
           "bgcolor": "white",
           "lakecolor": "white",
           "landcolor": "#E5ECF6",
           "showlakes": true,
           "showland": true,
           "subunitcolor": "white"
          },
          "hoverlabel": {
           "align": "left"
          },
          "hovermode": "closest",
          "mapbox": {
           "style": "light"
          },
          "paper_bgcolor": "white",
          "plot_bgcolor": "#E5ECF6",
          "polar": {
           "angularaxis": {
            "gridcolor": "white",
            "linecolor": "white",
            "ticks": ""
           },
           "bgcolor": "#E5ECF6",
           "radialaxis": {
            "gridcolor": "white",
            "linecolor": "white",
            "ticks": ""
           }
          },
          "scene": {
           "xaxis": {
            "backgroundcolor": "#E5ECF6",
            "gridcolor": "white",
            "gridwidth": 2,
            "linecolor": "white",
            "showbackground": true,
            "ticks": "",
            "zerolinecolor": "white"
           },
           "yaxis": {
            "backgroundcolor": "#E5ECF6",
            "gridcolor": "white",
            "gridwidth": 2,
            "linecolor": "white",
            "showbackground": true,
            "ticks": "",
            "zerolinecolor": "white"
           },
           "zaxis": {
            "backgroundcolor": "#E5ECF6",
            "gridcolor": "white",
            "gridwidth": 2,
            "linecolor": "white",
            "showbackground": true,
            "ticks": "",
            "zerolinecolor": "white"
           }
          },
          "shapedefaults": {
           "line": {
            "color": "#2a3f5f"
           }
          },
          "ternary": {
           "aaxis": {
            "gridcolor": "white",
            "linecolor": "white",
            "ticks": ""
           },
           "baxis": {
            "gridcolor": "white",
            "linecolor": "white",
            "ticks": ""
           },
           "bgcolor": "#E5ECF6",
           "caxis": {
            "gridcolor": "white",
            "linecolor": "white",
            "ticks": ""
           }
          },
          "title": {
           "x": 0.05
          },
          "xaxis": {
           "automargin": true,
           "gridcolor": "white",
           "linecolor": "white",
           "ticks": "",
           "title": {
            "standoff": 15
           },
           "zerolinecolor": "white",
           "zerolinewidth": 2
          },
          "yaxis": {
           "automargin": true,
           "gridcolor": "white",
           "linecolor": "white",
           "ticks": "",
           "title": {
            "standoff": 15
           },
           "zerolinecolor": "white",
           "zerolinewidth": 2
          }
         }
        },
        "xaxis": {
         "anchor": "y",
         "domain": [
          0,
          1
         ],
         "title": {
          "text": "value"
         }
        },
        "yaxis": {
         "anchor": "x",
         "domain": [
          0,
          1
         ],
         "title": {
          "text": "count"
         }
        }
       }
      }
     },
     "metadata": {},
     "output_type": "display_data"
    }
   ],
   "source": [
    "fig = px.histogram(df['PRICE'])\n",
    "fig.show()"
   ]
  },
  {
   "cell_type": "markdown",
   "metadata": {},
   "source": [
    "## Q4: Use a heatmap to show the correlation between features and the target labels."
   ]
  },
  {
   "cell_type": "code",
   "execution_count": 391,
   "metadata": {},
   "outputs": [
    {
     "data": {
      "application/vnd.plotly.v1+json": {
       "config": {
        "plotlyServerURL": "https://plot.ly"
       },
       "data": [
        {
         "coloraxis": "coloraxis",
         "hovertemplate": "x: %{x}<br>y: %{y}<br>color: %{z}<extra></extra>",
         "name": "0",
         "texttemplate": "%{z}",
         "type": "heatmap",
         "x": [
          "CRIM",
          "ZN",
          "INDUS",
          "CHAS",
          "NOX",
          "RM",
          "AGE",
          "DIS",
          "RAD",
          "TAX",
          "PTRATIO",
          "B",
          "LSTAT",
          "PRICE"
         ],
         "xaxis": "x",
         "y": [
          "CRIM",
          "ZN",
          "INDUS",
          "CHAS",
          "NOX",
          "RM",
          "AGE",
          "DIS",
          "RAD",
          "TAX",
          "PTRATIO",
          "B",
          "LSTAT",
          "PRICE"
         ],
         "yaxis": "y",
         "z": [
          [
           1,
           -0.20046921966254744,
           0.4065834114062594,
           -0.05589158222224156,
           0.4209717113924554,
           -0.21924670286251308,
           0.3527342509013634,
           -0.37967008695102467,
           0.6255051452626024,
           0.5827643120325854,
           0.2899455792795226,
           -0.3850639419942239,
           0.4556214794479463,
           -0.38830460858681154
          ],
          [
           -0.20046921966254744,
           1,
           -0.5338281863044696,
           -0.04269671929612169,
           -0.5166037078279843,
           0.31199058737409047,
           -0.5695373420992109,
           0.6644082227621105,
           -0.3119478260185367,
           -0.3145633246775997,
           -0.3916785479362161,
           0.1755203173828273,
           -0.41299457452700283,
           0.3604453424505433
          ],
          [
           0.4065834114062594,
           -0.5338281863044696,
           1,
           0.06293802748966515,
           0.7636514469209139,
           -0.39167585265684274,
           0.6447785113552554,
           -0.7080269887427675,
           0.5951292746038485,
           0.7207601799515422,
           0.38324755642888936,
           -0.3569765351041928,
           0.603799716476621,
           -0.48372516002837274
          ],
          [
           -0.05589158222224156,
           -0.04269671929612169,
           0.06293802748966515,
           1,
           0.09120280684249558,
           0.09125122504345677,
           0.08651777425454328,
           -0.09917578017472799,
           -0.00736824088607757,
           -0.03558651758591146,
           -0.12151517365806228,
           0.048788484955166495,
           -0.05392929837569424,
           0.17526017719029868
          ],
          [
           0.4209717113924554,
           -0.5166037078279843,
           0.7636514469209139,
           0.09120280684249558,
           1,
           -0.3021881878495924,
           0.7314701037859592,
           -0.7692301132258282,
           0.6114405634855762,
           0.6680232004030217,
           0.18893267711276884,
           -0.3800506377924,
           0.5908789208808451,
           -0.42732077237328203
          ],
          [
           -0.21924670286251308,
           0.31199058737409047,
           -0.39167585265684274,
           0.09125122504345677,
           -0.3021881878495924,
           1,
           -0.24026493104775065,
           0.20524621293005416,
           -0.20984666776610833,
           -0.2920478326232189,
           -0.35550149455908525,
           0.1280686350925421,
           -0.6138082718663955,
           0.6953599470715401
          ],
          [
           0.3527342509013634,
           -0.5695373420992109,
           0.6447785113552554,
           0.08651777425454328,
           0.7314701037859592,
           -0.24026493104775065,
           1,
           -0.747880540868632,
           0.4560224517516137,
           0.5064555935507051,
           0.2615150116719584,
           -0.273533976638513,
           0.6023385287262395,
           -0.3769545650045961
          ],
          [
           -0.37967008695102467,
           0.6644082227621105,
           -0.7080269887427675,
           -0.09917578017472799,
           -0.7692301132258282,
           0.20524621293005416,
           -0.747880540868632,
           1,
           -0.4945879296720758,
           -0.5344315844084577,
           -0.23247054240825826,
           0.2915116731330399,
           -0.4969958308636848,
           0.249928734085904
          ],
          [
           0.6255051452626024,
           -0.3119478260185367,
           0.5951292746038485,
           -0.00736824088607757,
           0.6114405634855762,
           -0.20984666776610833,
           0.4560224517516137,
           -0.4945879296720758,
           1,
           0.9102281885331865,
           0.46474117850306057,
           -0.44441281557512585,
           0.4886763349750666,
           -0.38162623063977735
          ],
          [
           0.5827643120325854,
           -0.3145633246775997,
           0.7207601799515422,
           -0.03558651758591146,
           0.6680232004030217,
           -0.2920478326232189,
           0.5064555935507051,
           -0.5344315844084577,
           0.9102281885331865,
           1,
           0.4608530350656702,
           -0.44180800672281423,
           0.5439934120015698,
           -0.4685359335677667
          ],
          [
           0.2899455792795226,
           -0.3916785479362161,
           0.38324755642888936,
           -0.12151517365806228,
           0.18893267711276884,
           -0.35550149455908525,
           0.2615150116719584,
           -0.23247054240825826,
           0.46474117850306057,
           0.4608530350656702,
           1,
           -0.1773833023052333,
           0.3740443167146772,
           -0.5077866855375623
          ],
          [
           -0.3850639419942239,
           0.1755203173828273,
           -0.3569765351041928,
           0.048788484955166495,
           -0.3800506377924,
           0.1280686350925421,
           -0.273533976638513,
           0.2915116731330399,
           -0.44441281557512585,
           -0.44180800672281423,
           -0.1773833023052333,
           1,
           -0.36608690169159663,
           0.3334608196570662
          ],
          [
           0.4556214794479463,
           -0.41299457452700283,
           0.603799716476621,
           -0.05392929837569424,
           0.5908789208808451,
           -0.6138082718663955,
           0.6023385287262395,
           -0.4969958308636848,
           0.4886763349750666,
           0.5439934120015698,
           0.3740443167146772,
           -0.36608690169159663,
           1,
           -0.7376627261740145
          ],
          [
           -0.38830460858681154,
           0.3604453424505433,
           -0.48372516002837274,
           0.17526017719029868,
           -0.42732077237328203,
           0.6953599470715401,
           -0.3769545650045961,
           0.249928734085904,
           -0.38162623063977735,
           -0.4685359335677667,
           -0.5077866855375623,
           0.3334608196570662,
           -0.7376627261740145,
           1
          ]
         ]
        }
       ],
       "layout": {
        "coloraxis": {
         "colorscale": [
          [
           0,
           "#0d0887"
          ],
          [
           0.1111111111111111,
           "#46039f"
          ],
          [
           0.2222222222222222,
           "#7201a8"
          ],
          [
           0.3333333333333333,
           "#9c179e"
          ],
          [
           0.4444444444444444,
           "#bd3786"
          ],
          [
           0.5555555555555556,
           "#d8576b"
          ],
          [
           0.6666666666666666,
           "#ed7953"
          ],
          [
           0.7777777777777778,
           "#fb9f3a"
          ],
          [
           0.8888888888888888,
           "#fdca26"
          ],
          [
           1,
           "#f0f921"
          ]
         ]
        },
        "margin": {
         "t": 60
        },
        "template": {
         "data": {
          "bar": [
           {
            "error_x": {
             "color": "#2a3f5f"
            },
            "error_y": {
             "color": "#2a3f5f"
            },
            "marker": {
             "line": {
              "color": "#E5ECF6",
              "width": 0.5
             },
             "pattern": {
              "fillmode": "overlay",
              "size": 10,
              "solidity": 0.2
             }
            },
            "type": "bar"
           }
          ],
          "barpolar": [
           {
            "marker": {
             "line": {
              "color": "#E5ECF6",
              "width": 0.5
             },
             "pattern": {
              "fillmode": "overlay",
              "size": 10,
              "solidity": 0.2
             }
            },
            "type": "barpolar"
           }
          ],
          "carpet": [
           {
            "aaxis": {
             "endlinecolor": "#2a3f5f",
             "gridcolor": "white",
             "linecolor": "white",
             "minorgridcolor": "white",
             "startlinecolor": "#2a3f5f"
            },
            "baxis": {
             "endlinecolor": "#2a3f5f",
             "gridcolor": "white",
             "linecolor": "white",
             "minorgridcolor": "white",
             "startlinecolor": "#2a3f5f"
            },
            "type": "carpet"
           }
          ],
          "choropleth": [
           {
            "colorbar": {
             "outlinewidth": 0,
             "ticks": ""
            },
            "type": "choropleth"
           }
          ],
          "contour": [
           {
            "colorbar": {
             "outlinewidth": 0,
             "ticks": ""
            },
            "colorscale": [
             [
              0,
              "#0d0887"
             ],
             [
              0.1111111111111111,
              "#46039f"
             ],
             [
              0.2222222222222222,
              "#7201a8"
             ],
             [
              0.3333333333333333,
              "#9c179e"
             ],
             [
              0.4444444444444444,
              "#bd3786"
             ],
             [
              0.5555555555555556,
              "#d8576b"
             ],
             [
              0.6666666666666666,
              "#ed7953"
             ],
             [
              0.7777777777777778,
              "#fb9f3a"
             ],
             [
              0.8888888888888888,
              "#fdca26"
             ],
             [
              1,
              "#f0f921"
             ]
            ],
            "type": "contour"
           }
          ],
          "contourcarpet": [
           {
            "colorbar": {
             "outlinewidth": 0,
             "ticks": ""
            },
            "type": "contourcarpet"
           }
          ],
          "heatmap": [
           {
            "colorbar": {
             "outlinewidth": 0,
             "ticks": ""
            },
            "colorscale": [
             [
              0,
              "#0d0887"
             ],
             [
              0.1111111111111111,
              "#46039f"
             ],
             [
              0.2222222222222222,
              "#7201a8"
             ],
             [
              0.3333333333333333,
              "#9c179e"
             ],
             [
              0.4444444444444444,
              "#bd3786"
             ],
             [
              0.5555555555555556,
              "#d8576b"
             ],
             [
              0.6666666666666666,
              "#ed7953"
             ],
             [
              0.7777777777777778,
              "#fb9f3a"
             ],
             [
              0.8888888888888888,
              "#fdca26"
             ],
             [
              1,
              "#f0f921"
             ]
            ],
            "type": "heatmap"
           }
          ],
          "heatmapgl": [
           {
            "colorbar": {
             "outlinewidth": 0,
             "ticks": ""
            },
            "colorscale": [
             [
              0,
              "#0d0887"
             ],
             [
              0.1111111111111111,
              "#46039f"
             ],
             [
              0.2222222222222222,
              "#7201a8"
             ],
             [
              0.3333333333333333,
              "#9c179e"
             ],
             [
              0.4444444444444444,
              "#bd3786"
             ],
             [
              0.5555555555555556,
              "#d8576b"
             ],
             [
              0.6666666666666666,
              "#ed7953"
             ],
             [
              0.7777777777777778,
              "#fb9f3a"
             ],
             [
              0.8888888888888888,
              "#fdca26"
             ],
             [
              1,
              "#f0f921"
             ]
            ],
            "type": "heatmapgl"
           }
          ],
          "histogram": [
           {
            "marker": {
             "pattern": {
              "fillmode": "overlay",
              "size": 10,
              "solidity": 0.2
             }
            },
            "type": "histogram"
           }
          ],
          "histogram2d": [
           {
            "colorbar": {
             "outlinewidth": 0,
             "ticks": ""
            },
            "colorscale": [
             [
              0,
              "#0d0887"
             ],
             [
              0.1111111111111111,
              "#46039f"
             ],
             [
              0.2222222222222222,
              "#7201a8"
             ],
             [
              0.3333333333333333,
              "#9c179e"
             ],
             [
              0.4444444444444444,
              "#bd3786"
             ],
             [
              0.5555555555555556,
              "#d8576b"
             ],
             [
              0.6666666666666666,
              "#ed7953"
             ],
             [
              0.7777777777777778,
              "#fb9f3a"
             ],
             [
              0.8888888888888888,
              "#fdca26"
             ],
             [
              1,
              "#f0f921"
             ]
            ],
            "type": "histogram2d"
           }
          ],
          "histogram2dcontour": [
           {
            "colorbar": {
             "outlinewidth": 0,
             "ticks": ""
            },
            "colorscale": [
             [
              0,
              "#0d0887"
             ],
             [
              0.1111111111111111,
              "#46039f"
             ],
             [
              0.2222222222222222,
              "#7201a8"
             ],
             [
              0.3333333333333333,
              "#9c179e"
             ],
             [
              0.4444444444444444,
              "#bd3786"
             ],
             [
              0.5555555555555556,
              "#d8576b"
             ],
             [
              0.6666666666666666,
              "#ed7953"
             ],
             [
              0.7777777777777778,
              "#fb9f3a"
             ],
             [
              0.8888888888888888,
              "#fdca26"
             ],
             [
              1,
              "#f0f921"
             ]
            ],
            "type": "histogram2dcontour"
           }
          ],
          "mesh3d": [
           {
            "colorbar": {
             "outlinewidth": 0,
             "ticks": ""
            },
            "type": "mesh3d"
           }
          ],
          "parcoords": [
           {
            "line": {
             "colorbar": {
              "outlinewidth": 0,
              "ticks": ""
             }
            },
            "type": "parcoords"
           }
          ],
          "pie": [
           {
            "automargin": true,
            "type": "pie"
           }
          ],
          "scatter": [
           {
            "fillpattern": {
             "fillmode": "overlay",
             "size": 10,
             "solidity": 0.2
            },
            "type": "scatter"
           }
          ],
          "scatter3d": [
           {
            "line": {
             "colorbar": {
              "outlinewidth": 0,
              "ticks": ""
             }
            },
            "marker": {
             "colorbar": {
              "outlinewidth": 0,
              "ticks": ""
             }
            },
            "type": "scatter3d"
           }
          ],
          "scattercarpet": [
           {
            "marker": {
             "colorbar": {
              "outlinewidth": 0,
              "ticks": ""
             }
            },
            "type": "scattercarpet"
           }
          ],
          "scattergeo": [
           {
            "marker": {
             "colorbar": {
              "outlinewidth": 0,
              "ticks": ""
             }
            },
            "type": "scattergeo"
           }
          ],
          "scattergl": [
           {
            "marker": {
             "colorbar": {
              "outlinewidth": 0,
              "ticks": ""
             }
            },
            "type": "scattergl"
           }
          ],
          "scattermapbox": [
           {
            "marker": {
             "colorbar": {
              "outlinewidth": 0,
              "ticks": ""
             }
            },
            "type": "scattermapbox"
           }
          ],
          "scatterpolar": [
           {
            "marker": {
             "colorbar": {
              "outlinewidth": 0,
              "ticks": ""
             }
            },
            "type": "scatterpolar"
           }
          ],
          "scatterpolargl": [
           {
            "marker": {
             "colorbar": {
              "outlinewidth": 0,
              "ticks": ""
             }
            },
            "type": "scatterpolargl"
           }
          ],
          "scatterternary": [
           {
            "marker": {
             "colorbar": {
              "outlinewidth": 0,
              "ticks": ""
             }
            },
            "type": "scatterternary"
           }
          ],
          "surface": [
           {
            "colorbar": {
             "outlinewidth": 0,
             "ticks": ""
            },
            "colorscale": [
             [
              0,
              "#0d0887"
             ],
             [
              0.1111111111111111,
              "#46039f"
             ],
             [
              0.2222222222222222,
              "#7201a8"
             ],
             [
              0.3333333333333333,
              "#9c179e"
             ],
             [
              0.4444444444444444,
              "#bd3786"
             ],
             [
              0.5555555555555556,
              "#d8576b"
             ],
             [
              0.6666666666666666,
              "#ed7953"
             ],
             [
              0.7777777777777778,
              "#fb9f3a"
             ],
             [
              0.8888888888888888,
              "#fdca26"
             ],
             [
              1,
              "#f0f921"
             ]
            ],
            "type": "surface"
           }
          ],
          "table": [
           {
            "cells": {
             "fill": {
              "color": "#EBF0F8"
             },
             "line": {
              "color": "white"
             }
            },
            "header": {
             "fill": {
              "color": "#C8D4E3"
             },
             "line": {
              "color": "white"
             }
            },
            "type": "table"
           }
          ]
         },
         "layout": {
          "annotationdefaults": {
           "arrowcolor": "#2a3f5f",
           "arrowhead": 0,
           "arrowwidth": 1
          },
          "autotypenumbers": "strict",
          "coloraxis": {
           "colorbar": {
            "outlinewidth": 0,
            "ticks": ""
           }
          },
          "colorscale": {
           "diverging": [
            [
             0,
             "#8e0152"
            ],
            [
             0.1,
             "#c51b7d"
            ],
            [
             0.2,
             "#de77ae"
            ],
            [
             0.3,
             "#f1b6da"
            ],
            [
             0.4,
             "#fde0ef"
            ],
            [
             0.5,
             "#f7f7f7"
            ],
            [
             0.6,
             "#e6f5d0"
            ],
            [
             0.7,
             "#b8e186"
            ],
            [
             0.8,
             "#7fbc41"
            ],
            [
             0.9,
             "#4d9221"
            ],
            [
             1,
             "#276419"
            ]
           ],
           "sequential": [
            [
             0,
             "#0d0887"
            ],
            [
             0.1111111111111111,
             "#46039f"
            ],
            [
             0.2222222222222222,
             "#7201a8"
            ],
            [
             0.3333333333333333,
             "#9c179e"
            ],
            [
             0.4444444444444444,
             "#bd3786"
            ],
            [
             0.5555555555555556,
             "#d8576b"
            ],
            [
             0.6666666666666666,
             "#ed7953"
            ],
            [
             0.7777777777777778,
             "#fb9f3a"
            ],
            [
             0.8888888888888888,
             "#fdca26"
            ],
            [
             1,
             "#f0f921"
            ]
           ],
           "sequentialminus": [
            [
             0,
             "#0d0887"
            ],
            [
             0.1111111111111111,
             "#46039f"
            ],
            [
             0.2222222222222222,
             "#7201a8"
            ],
            [
             0.3333333333333333,
             "#9c179e"
            ],
            [
             0.4444444444444444,
             "#bd3786"
            ],
            [
             0.5555555555555556,
             "#d8576b"
            ],
            [
             0.6666666666666666,
             "#ed7953"
            ],
            [
             0.7777777777777778,
             "#fb9f3a"
            ],
            [
             0.8888888888888888,
             "#fdca26"
            ],
            [
             1,
             "#f0f921"
            ]
           ]
          },
          "colorway": [
           "#636efa",
           "#EF553B",
           "#00cc96",
           "#ab63fa",
           "#FFA15A",
           "#19d3f3",
           "#FF6692",
           "#B6E880",
           "#FF97FF",
           "#FECB52"
          ],
          "font": {
           "color": "#2a3f5f"
          },
          "geo": {
           "bgcolor": "white",
           "lakecolor": "white",
           "landcolor": "#E5ECF6",
           "showlakes": true,
           "showland": true,
           "subunitcolor": "white"
          },
          "hoverlabel": {
           "align": "left"
          },
          "hovermode": "closest",
          "mapbox": {
           "style": "light"
          },
          "paper_bgcolor": "white",
          "plot_bgcolor": "#E5ECF6",
          "polar": {
           "angularaxis": {
            "gridcolor": "white",
            "linecolor": "white",
            "ticks": ""
           },
           "bgcolor": "#E5ECF6",
           "radialaxis": {
            "gridcolor": "white",
            "linecolor": "white",
            "ticks": ""
           }
          },
          "scene": {
           "xaxis": {
            "backgroundcolor": "#E5ECF6",
            "gridcolor": "white",
            "gridwidth": 2,
            "linecolor": "white",
            "showbackground": true,
            "ticks": "",
            "zerolinecolor": "white"
           },
           "yaxis": {
            "backgroundcolor": "#E5ECF6",
            "gridcolor": "white",
            "gridwidth": 2,
            "linecolor": "white",
            "showbackground": true,
            "ticks": "",
            "zerolinecolor": "white"
           },
           "zaxis": {
            "backgroundcolor": "#E5ECF6",
            "gridcolor": "white",
            "gridwidth": 2,
            "linecolor": "white",
            "showbackground": true,
            "ticks": "",
            "zerolinecolor": "white"
           }
          },
          "shapedefaults": {
           "line": {
            "color": "#2a3f5f"
           }
          },
          "ternary": {
           "aaxis": {
            "gridcolor": "white",
            "linecolor": "white",
            "ticks": ""
           },
           "baxis": {
            "gridcolor": "white",
            "linecolor": "white",
            "ticks": ""
           },
           "bgcolor": "#E5ECF6",
           "caxis": {
            "gridcolor": "white",
            "linecolor": "white",
            "ticks": ""
           }
          },
          "title": {
           "x": 0.05
          },
          "xaxis": {
           "automargin": true,
           "gridcolor": "white",
           "linecolor": "white",
           "ticks": "",
           "title": {
            "standoff": 15
           },
           "zerolinecolor": "white",
           "zerolinewidth": 2
          },
          "yaxis": {
           "automargin": true,
           "gridcolor": "white",
           "linecolor": "white",
           "ticks": "",
           "title": {
            "standoff": 15
           },
           "zerolinecolor": "white",
           "zerolinewidth": 2
          }
         }
        },
        "xaxis": {
         "anchor": "y",
         "domain": [
          0,
          1
         ]
        },
        "yaxis": {
         "anchor": "x",
         "autorange": "reversed",
         "domain": [
          0,
          1
         ]
        }
       }
      }
     },
     "metadata": {},
     "output_type": "display_data"
    }
   ],
   "source": [
    "#fig = px.density_heatmap(df)\n",
    "fig = px.imshow(df.corr(), text_auto=True,aspect=\"auto\")\n",
    "\n",
    "fig.show()"
   ]
  },
  {
   "cell_type": "markdown",
   "metadata": {},
   "source": [
    "## Q5: Use a lmplot to draw the relations between price and LSTAT."
   ]
  },
  {
   "cell_type": "code",
   "execution_count": 392,
   "metadata": {},
   "outputs": [
    {
     "data": {
      "application/vnd.plotly.v1+json": {
       "config": {
        "plotlyServerURL": "https://plot.ly"
       },
       "data": [
        {
         "hovertemplate": "PRICE=%{x}<br>LSTAT=%{y}<extra></extra>",
         "legendgroup": "",
         "marker": {
          "color": "#636efa",
          "symbol": "circle"
         },
         "mode": "markers",
         "name": "",
         "orientation": "v",
         "showlegend": false,
         "type": "scatter",
         "x": [
          24,
          21.6,
          34.7,
          33.4,
          36.2,
          28.7,
          22.9,
          27.1,
          16.5,
          18.9,
          15,
          18.9,
          21.7,
          20.4,
          18.2,
          19.9,
          23.1,
          17.5,
          20.2,
          18.2,
          13.6,
          19.6,
          15.2,
          14.5,
          15.6,
          13.9,
          16.6,
          14.8,
          18.4,
          21,
          12.7,
          14.5,
          13.2,
          13.1,
          13.5,
          18.9,
          20,
          21,
          24.7,
          30.8,
          34.9,
          26.6,
          25.3,
          24.7,
          21.2,
          19.3,
          20,
          16.6,
          14.4,
          19.4,
          19.7,
          20.5,
          25,
          23.4,
          18.9,
          35.4,
          24.7,
          31.6,
          23.3,
          19.6,
          18.7,
          16,
          22.2,
          25,
          33,
          23.5,
          19.4,
          22,
          17.4,
          20.9,
          24.2,
          21.7,
          22.8,
          23.4,
          24.1,
          21.4,
          20,
          20.8,
          21.2,
          20.3,
          28,
          23.9,
          24.8,
          22.9,
          23.9,
          26.6,
          22.5,
          22.2,
          23.6,
          28.7,
          22.6,
          22,
          22.9,
          25,
          20.6,
          28.4,
          21.4,
          38.7,
          43.8,
          33.2,
          27.5,
          26.5,
          18.6,
          19.3,
          20.1,
          19.5,
          19.5,
          20.4,
          19.8,
          19.4,
          21.7,
          22.8,
          18.8,
          18.7,
          18.5,
          18.3,
          21.2,
          19.2,
          20.4,
          19.3,
          22,
          20.3,
          20.5,
          17.3,
          18.8,
          21.4,
          15.7,
          16.2,
          18,
          14.3,
          19.2,
          19.6,
          23,
          18.4,
          15.6,
          18.1,
          17.4,
          17.1,
          13.3,
          17.8,
          14,
          14.4,
          13.4,
          15.6,
          11.8,
          13.8,
          15.6,
          14.6,
          17.8,
          15.4,
          21.5,
          19.6,
          15.3,
          19.4,
          17,
          15.6,
          13.1,
          41.3,
          24.3,
          23.3,
          27,
          50,
          50,
          50,
          22.7,
          25,
          50,
          23.8,
          23.8,
          22.3,
          17.4,
          19.1,
          23.1,
          23.6,
          22.6,
          29.4,
          23.2,
          24.6,
          29.9,
          37.2,
          39.8,
          36.2,
          37.9,
          32.5,
          26.4,
          29.6,
          50,
          32,
          29.8,
          34.9,
          37,
          30.5,
          36.4,
          31.1,
          29.1,
          50,
          33.3,
          30.3,
          34.6,
          34.9,
          32.9,
          24.1,
          42.3,
          48.5,
          50,
          22.6,
          24.4,
          22.5,
          24.4,
          20,
          21.7,
          19.3,
          22.4,
          28.1,
          23.7,
          25,
          23.3,
          28.7,
          21.5,
          23,
          26.7,
          21.7,
          27.5,
          30.1,
          44.8,
          50,
          37.6,
          31.6,
          46.7,
          31.5,
          24.3,
          31.7,
          41.7,
          48.3,
          29,
          24,
          25.1,
          31.5,
          23.7,
          23.3,
          22,
          20.1,
          22.2,
          23.7,
          17.6,
          18.5,
          24.3,
          20.5,
          24.5,
          26.2,
          24.4,
          24.8,
          29.6,
          42.8,
          21.9,
          20.9,
          44,
          50,
          36,
          30.1,
          33.8,
          43.1,
          48.8,
          31,
          36.5,
          22.8,
          30.7,
          50,
          43.5,
          20.7,
          21.1,
          25.2,
          24.4,
          35.2,
          32.4,
          32,
          33.2,
          33.1,
          29.1,
          35.1,
          45.4,
          35.4,
          46,
          50,
          32.2,
          22,
          20.1,
          23.2,
          22.3,
          24.8,
          28.5,
          37.3,
          27.9,
          23.9,
          21.7,
          28.6,
          27.1,
          20.3,
          22.5,
          29,
          24.8,
          22,
          26.4,
          33.1,
          36.1,
          28.4,
          33.4,
          28.2,
          22.8,
          20.3,
          16.1,
          22.1,
          19.4,
          21.6,
          23.8,
          16.2,
          17.8,
          19.8,
          23.1,
          21,
          23.8,
          23.1,
          20.4,
          18.5,
          25,
          24.6,
          23,
          22.2,
          19.3,
          22.6,
          19.8,
          17.1,
          19.4,
          22.2,
          20.7,
          21.1,
          19.5,
          18.5,
          20.6,
          19,
          18.7,
          32.7,
          16.5,
          23.9,
          31.2,
          17.5,
          17.2,
          23.1,
          24.5,
          26.6,
          22.9,
          24.1,
          18.6,
          30.1,
          18.2,
          20.6,
          17.8,
          21.7,
          22.7,
          22.6,
          25,
          19.9,
          20.8,
          16.8,
          21.9,
          27.5,
          21.9,
          23.1,
          50,
          50,
          50,
          50,
          50,
          13.8,
          13.8,
          15,
          13.9,
          13.3,
          13.1,
          10.2,
          10.4,
          10.9,
          11.3,
          12.3,
          8.8,
          7.2,
          10.5,
          7.4,
          10.2,
          11.5,
          15.1,
          23.2,
          9.7,
          13.8,
          12.7,
          13.1,
          12.5,
          8.5,
          5,
          6.3,
          5.6,
          7.2,
          12.1,
          8.3,
          8.5,
          5,
          11.9,
          27.9,
          17.2,
          27.5,
          15,
          17.2,
          17.9,
          16.3,
          7,
          7.2,
          7.5,
          10.4,
          8.8,
          8.4,
          16.7,
          14.2,
          20.8,
          13.4,
          11.7,
          8.3,
          10.2,
          10.9,
          11,
          9.5,
          14.5,
          14.1,
          16.1,
          14.3,
          11.7,
          13.4,
          9.6,
          8.7,
          8.4,
          12.8,
          10.5,
          17.1,
          18.4,
          15.4,
          10.8,
          11.8,
          14.9,
          12.6,
          14.1,
          13,
          13.4,
          15.2,
          16.1,
          17.8,
          14.9,
          14.1,
          12.7,
          13.5,
          14.9,
          20,
          16.4,
          17.7,
          19.5,
          20.2,
          21.4,
          19.9,
          19,
          19.1,
          19.1,
          20.1,
          19.9,
          19.6,
          23.2,
          29.8,
          13.8,
          13.3,
          16.7,
          12,
          14.6,
          21.4,
          23,
          23.7,
          25,
          21.8,
          20.6,
          21.2,
          19.1,
          20.6,
          15.2,
          7,
          8.1,
          13.6,
          20.1,
          21.8,
          24.5,
          23.1,
          19.7,
          18.3,
          21.2,
          17.5,
          16.8,
          22.4,
          20.6,
          23.9,
          22,
          11.9
         ],
         "xaxis": "x",
         "y": [
          4.98,
          9.14,
          4.03,
          2.94,
          5.33,
          5.21,
          12.43,
          19.15,
          29.93,
          17.1,
          20.45,
          13.27,
          15.71,
          8.26,
          10.26,
          8.47,
          6.58,
          14.67,
          11.69,
          11.28,
          21.02,
          13.83,
          18.72,
          19.88,
          16.3,
          16.51,
          14.81,
          17.28,
          12.8,
          11.98,
          22.6,
          13.04,
          27.71,
          18.35,
          20.34,
          9.68,
          11.41,
          8.77,
          10.13,
          4.32,
          1.98,
          4.84,
          5.81,
          7.44,
          9.55,
          10.21,
          14.15,
          18.8,
          30.81,
          16.2,
          13.45,
          9.43,
          5.28,
          8.43,
          14.8,
          4.81,
          5.77,
          3.95,
          6.86,
          9.22,
          13.15,
          14.44,
          6.73,
          9.5,
          8.05,
          4.67,
          10.24,
          8.1,
          13.09,
          8.79,
          6.72,
          9.88,
          5.52,
          7.54,
          6.78,
          8.94,
          11.97,
          10.27,
          12.34,
          9.1,
          5.29,
          7.22,
          6.72,
          7.51,
          9.62,
          6.53,
          12.86,
          8.44,
          5.5,
          5.7,
          8.81,
          8.2,
          8.16,
          6.21,
          10.59,
          6.65,
          11.34,
          4.21,
          3.57,
          6.19,
          9.42,
          7.67,
          10.63,
          13.44,
          12.33,
          16.47,
          18.66,
          14.09,
          12.27,
          15.55,
          13,
          10.16,
          16.21,
          17.09,
          10.45,
          15.76,
          12.04,
          10.3,
          15.37,
          13.61,
          14.37,
          14.27,
          17.93,
          25.41,
          17.58,
          14.81,
          27.26,
          17.19,
          15.39,
          18.34,
          12.6,
          12.26,
          11.12,
          15.03,
          17.31,
          16.96,
          16.9,
          14.59,
          21.32,
          18.46,
          24.16,
          34.41,
          26.82,
          26.42,
          29.29,
          27.8,
          16.65,
          29.53,
          28.32,
          21.45,
          14.1,
          13.28,
          12.12,
          15.79,
          15.12,
          15.02,
          16.14,
          4.59,
          6.43,
          7.39,
          5.5,
          1.73,
          1.92,
          3.32,
          11.64,
          9.81,
          3.7,
          12.14,
          11.1,
          11.32,
          14.43,
          12.03,
          14.69,
          9.04,
          9.64,
          5.33,
          10.11,
          6.29,
          6.92,
          5.04,
          7.56,
          9.45,
          4.82,
          5.68,
          13.98,
          13.15,
          4.45,
          6.68,
          4.56,
          5.39,
          5.1,
          4.69,
          2.87,
          5.03,
          4.38,
          2.97,
          4.08,
          8.61,
          6.62,
          4.56,
          4.45,
          7.43,
          3.11,
          3.81,
          2.88,
          10.87,
          10.97,
          18.06,
          14.66,
          23.09,
          17.27,
          23.98,
          16.03,
          9.38,
          29.55,
          9.47,
          13.51,
          9.69,
          17.92,
          10.5,
          9.71,
          21.46,
          9.93,
          7.6,
          4.14,
          4.63,
          3.13,
          6.36,
          3.92,
          3.76,
          11.65,
          5.25,
          2.47,
          3.95,
          8.05,
          10.88,
          9.54,
          4.73,
          6.36,
          7.37,
          11.38,
          12.4,
          11.22,
          5.19,
          12.5,
          18.46,
          9.16,
          10.15,
          9.52,
          6.56,
          5.9,
          3.59,
          3.53,
          3.54,
          6.57,
          9.25,
          3.11,
          5.12,
          7.79,
          6.9,
          9.59,
          7.26,
          5.91,
          11.25,
          8.1,
          10.45,
          14.79,
          7.44,
          3.16,
          13.65,
          13,
          6.59,
          7.73,
          6.58,
          3.53,
          2.98,
          6.05,
          4.16,
          7.19,
          4.85,
          3.76,
          4.59,
          3.01,
          3.16,
          7.85,
          8.23,
          12.93,
          7.14,
          7.6,
          9.51,
          3.33,
          3.56,
          4.7,
          8.58,
          10.4,
          6.27,
          7.39,
          15.84,
          4.97,
          4.74,
          6.07,
          9.5,
          8.67,
          4.86,
          6.93,
          8.93,
          6.47,
          7.53,
          4.54,
          9.97,
          12.64,
          5.98,
          11.72,
          7.9,
          9.28,
          11.5,
          18.33,
          15.94,
          10.36,
          12.73,
          7.2,
          6.87,
          7.7,
          11.74,
          6.12,
          5.08,
          6.15,
          12.79,
          9.97,
          7.34,
          9.09,
          12.43,
          7.83,
          5.68,
          6.75,
          8.01,
          9.8,
          10.56,
          8.51,
          9.74,
          9.29,
          5.49,
          8.65,
          7.18,
          4.61,
          10.53,
          12.67,
          6.36,
          5.99,
          5.89,
          5.98,
          5.49,
          7.79,
          4.5,
          8.05,
          5.57,
          17.6,
          13.27,
          11.48,
          12.67,
          7.79,
          14.19,
          10.19,
          14.64,
          5.29,
          7.12,
          14,
          13.33,
          3.26,
          3.73,
          2.96,
          9.53,
          8.88,
          34.77,
          37.97,
          13.44,
          23.24,
          21.24,
          23.69,
          21.78,
          17.21,
          21.08,
          23.6,
          24.56,
          30.63,
          30.81,
          28.28,
          31.99,
          30.62,
          20.85,
          17.11,
          18.76,
          25.68,
          15.17,
          16.35,
          17.12,
          19.37,
          19.92,
          30.59,
          29.97,
          26.77,
          20.32,
          20.31,
          19.77,
          27.38,
          22.98,
          23.34,
          12.13,
          26.4,
          19.78,
          10.11,
          21.22,
          34.37,
          20.08,
          36.98,
          29.05,
          25.79,
          26.64,
          20.62,
          22.74,
          15.02,
          15.7,
          14.1,
          23.29,
          17.16,
          24.39,
          15.69,
          14.52,
          21.52,
          24.08,
          17.64,
          19.69,
          12.03,
          16.22,
          15.17,
          23.27,
          18.05,
          26.45,
          34.02,
          22.88,
          22.11,
          19.52,
          16.59,
          18.85,
          23.79,
          23.98,
          17.79,
          16.44,
          18.13,
          19.31,
          17.44,
          17.73,
          17.27,
          16.74,
          18.71,
          18.13,
          19.01,
          16.94,
          16.23,
          14.7,
          16.42,
          14.65,
          13.99,
          10.29,
          13.22,
          14.13,
          17.15,
          21.32,
          18.13,
          14.76,
          16.29,
          12.87,
          14.36,
          11.66,
          18.14,
          24.1,
          18.68,
          24.91,
          18.03,
          13.11,
          10.74,
          7.74,
          7.01,
          10.42,
          13.34,
          10.58,
          14.98,
          11.45,
          18.06,
          23.97,
          29.68,
          18.07,
          13.35,
          12.01,
          13.59,
          17.6,
          21.14,
          14.1,
          12.92,
          15.1,
          14.33,
          9.67,
          9.08,
          5.64,
          6.48,
          7.88
         ],
         "yaxis": "y"
        },
        {
         "hovertemplate": "<b>OLS trendline</b><br>LSTAT = -0.572756 * PRICE + 25.5589<br>R<sup>2</sup>=0.544146<br><br>PRICE=%{x}<br>LSTAT=%{y} <b>(trend)</b><extra></extra>",
         "legendgroup": "",
         "marker": {
          "color": "#636efa",
          "symbol": "circle"
         },
         "mode": "lines",
         "name": "",
         "showlegend": false,
         "type": "scatter",
         "x": [
          5,
          5,
          5.6,
          6.3,
          7,
          7,
          7.2,
          7.2,
          7.2,
          7.4,
          7.5,
          8.1,
          8.3,
          8.3,
          8.4,
          8.4,
          8.5,
          8.5,
          8.7,
          8.8,
          8.8,
          9.5,
          9.6,
          9.7,
          10.2,
          10.2,
          10.2,
          10.4,
          10.4,
          10.5,
          10.5,
          10.8,
          10.9,
          10.9,
          11,
          11.3,
          11.5,
          11.7,
          11.7,
          11.8,
          11.8,
          11.9,
          11.9,
          12,
          12.1,
          12.3,
          12.5,
          12.6,
          12.7,
          12.7,
          12.7,
          12.8,
          13,
          13.1,
          13.1,
          13.1,
          13.1,
          13.2,
          13.3,
          13.3,
          13.3,
          13.4,
          13.4,
          13.4,
          13.4,
          13.5,
          13.5,
          13.6,
          13.6,
          13.8,
          13.8,
          13.8,
          13.8,
          13.8,
          13.9,
          13.9,
          14,
          14.1,
          14.1,
          14.1,
          14.2,
          14.3,
          14.3,
          14.4,
          14.4,
          14.5,
          14.5,
          14.5,
          14.6,
          14.6,
          14.8,
          14.9,
          14.9,
          14.9,
          15,
          15,
          15,
          15.1,
          15.2,
          15.2,
          15.2,
          15.3,
          15.4,
          15.4,
          15.6,
          15.6,
          15.6,
          15.6,
          15.6,
          15.7,
          16,
          16.1,
          16.1,
          16.1,
          16.2,
          16.2,
          16.3,
          16.4,
          16.5,
          16.5,
          16.6,
          16.6,
          16.7,
          16.7,
          16.8,
          16.8,
          17,
          17.1,
          17.1,
          17.1,
          17.2,
          17.2,
          17.2,
          17.3,
          17.4,
          17.4,
          17.4,
          17.5,
          17.5,
          17.5,
          17.6,
          17.7,
          17.8,
          17.8,
          17.8,
          17.8,
          17.8,
          17.9,
          18,
          18.1,
          18.2,
          18.2,
          18.2,
          18.3,
          18.3,
          18.4,
          18.4,
          18.4,
          18.5,
          18.5,
          18.5,
          18.5,
          18.6,
          18.6,
          18.7,
          18.7,
          18.7,
          18.8,
          18.8,
          18.9,
          18.9,
          18.9,
          18.9,
          19,
          19,
          19.1,
          19.1,
          19.1,
          19.1,
          19.2,
          19.2,
          19.3,
          19.3,
          19.3,
          19.3,
          19.3,
          19.4,
          19.4,
          19.4,
          19.4,
          19.4,
          19.4,
          19.5,
          19.5,
          19.5,
          19.5,
          19.6,
          19.6,
          19.6,
          19.6,
          19.6,
          19.7,
          19.7,
          19.8,
          19.8,
          19.8,
          19.9,
          19.9,
          19.9,
          19.9,
          20,
          20,
          20,
          20,
          20,
          20.1,
          20.1,
          20.1,
          20.1,
          20.1,
          20.2,
          20.2,
          20.3,
          20.3,
          20.3,
          20.3,
          20.4,
          20.4,
          20.4,
          20.4,
          20.5,
          20.5,
          20.5,
          20.6,
          20.6,
          20.6,
          20.6,
          20.6,
          20.6,
          20.7,
          20.7,
          20.8,
          20.8,
          20.8,
          20.9,
          20.9,
          21,
          21,
          21,
          21.1,
          21.1,
          21.2,
          21.2,
          21.2,
          21.2,
          21.2,
          21.4,
          21.4,
          21.4,
          21.4,
          21.4,
          21.5,
          21.5,
          21.6,
          21.6,
          21.7,
          21.7,
          21.7,
          21.7,
          21.7,
          21.7,
          21.7,
          21.8,
          21.8,
          21.9,
          21.9,
          21.9,
          22,
          22,
          22,
          22,
          22,
          22,
          22,
          22.1,
          22.2,
          22.2,
          22.2,
          22.2,
          22.2,
          22.3,
          22.3,
          22.4,
          22.4,
          22.5,
          22.5,
          22.5,
          22.6,
          22.6,
          22.6,
          22.6,
          22.6,
          22.7,
          22.7,
          22.8,
          22.8,
          22.8,
          22.8,
          22.9,
          22.9,
          22.9,
          22.9,
          23,
          23,
          23,
          23,
          23.1,
          23.1,
          23.1,
          23.1,
          23.1,
          23.1,
          23.1,
          23.2,
          23.2,
          23.2,
          23.2,
          23.3,
          23.3,
          23.3,
          23.3,
          23.4,
          23.4,
          23.5,
          23.6,
          23.6,
          23.7,
          23.7,
          23.7,
          23.7,
          23.8,
          23.8,
          23.8,
          23.8,
          23.9,
          23.9,
          23.9,
          23.9,
          23.9,
          24,
          24,
          24.1,
          24.1,
          24.1,
          24.2,
          24.3,
          24.3,
          24.3,
          24.4,
          24.4,
          24.4,
          24.4,
          24.5,
          24.5,
          24.5,
          24.6,
          24.6,
          24.7,
          24.7,
          24.7,
          24.8,
          24.8,
          24.8,
          24.8,
          25,
          25,
          25,
          25,
          25,
          25,
          25,
          25,
          25.1,
          25.2,
          25.3,
          26.2,
          26.4,
          26.4,
          26.5,
          26.6,
          26.6,
          26.6,
          26.7,
          27,
          27.1,
          27.1,
          27.5,
          27.5,
          27.5,
          27.5,
          27.9,
          27.9,
          28,
          28.1,
          28.2,
          28.4,
          28.4,
          28.5,
          28.6,
          28.7,
          28.7,
          28.7,
          29,
          29,
          29.1,
          29.1,
          29.4,
          29.6,
          29.6,
          29.8,
          29.8,
          29.9,
          30.1,
          30.1,
          30.1,
          30.3,
          30.5,
          30.7,
          30.8,
          31,
          31.1,
          31.2,
          31.5,
          31.5,
          31.6,
          31.6,
          31.7,
          32,
          32,
          32.2,
          32.4,
          32.5,
          32.7,
          32.9,
          33,
          33.1,
          33.1,
          33.2,
          33.2,
          33.3,
          33.4,
          33.4,
          33.8,
          34.6,
          34.7,
          34.9,
          34.9,
          34.9,
          35.1,
          35.2,
          35.4,
          35.4,
          36,
          36.1,
          36.2,
          36.2,
          36.4,
          36.5,
          37,
          37.2,
          37.3,
          37.6,
          37.9,
          38.7,
          39.8,
          41.3,
          41.7,
          42.3,
          42.8,
          43.1,
          43.5,
          43.8,
          44,
          44.8,
          45.4,
          46,
          46.7,
          48.3,
          48.5,
          48.8,
          50,
          50,
          50,
          50,
          50,
          50,
          50,
          50,
          50,
          50,
          50,
          50,
          50,
          50,
          50,
          50
         ],
         "xaxis": "x",
         "y": [
          22.69508012141702,
          22.69508012141702,
          22.351426628826935,
          21.9504975541385,
          21.549568479450066,
          21.549568479450066,
          21.435017315253372,
          21.435017315253372,
          21.435017315253372,
          21.320466151056678,
          21.26319056895833,
          20.919537076368243,
          20.804985912171546,
          20.804985912171546,
          20.7477103300732,
          20.7477103300732,
          20.69043474797485,
          20.69043474797485,
          20.575883583778158,
          20.51860800167981,
          20.51860800167981,
          20.117678926991374,
          20.06040334489303,
          20.00312776279468,
          19.716749852302943,
          19.716749852302943,
          19.716749852302943,
          19.60219868810625,
          19.60219868810625,
          19.5449231060079,
          19.5449231060079,
          19.373096359712857,
          19.31582077761451,
          19.31582077761451,
          19.258545195516163,
          19.086718449221117,
          18.972167285024423,
          18.85761612082773,
          18.85761612082773,
          18.80034053872938,
          18.80034053872938,
          18.74306495663103,
          18.74306495663103,
          18.685789374532682,
          18.628513792434337,
          18.513962628237643,
          18.399411464040945,
          18.342135881942596,
          18.28486029984425,
          18.28486029984425,
          18.28486029984425,
          18.227584717745902,
          18.113033553549208,
          18.05575797145086,
          18.05575797145086,
          18.05575797145086,
          18.05575797145086,
          17.99848238935251,
          17.941206807254165,
          17.941206807254165,
          17.941206807254165,
          17.883931225155816,
          17.883931225155816,
          17.883931225155816,
          17.883931225155816,
          17.82665564305747,
          17.82665564305747,
          17.769380060959122,
          17.769380060959122,
          17.654828896762425,
          17.654828896762425,
          17.654828896762425,
          17.654828896762425,
          17.654828896762425,
          17.59755331466408,
          17.59755331466408,
          17.54027773256573,
          17.483002150467385,
          17.483002150467385,
          17.483002150467385,
          17.425726568369036,
          17.368450986270688,
          17.368450986270688,
          17.31117540417234,
          17.31117540417234,
          17.25389982207399,
          17.25389982207399,
          17.25389982207399,
          17.196624239975645,
          17.196624239975645,
          17.08207307577895,
          17.0247974936806,
          17.0247974936806,
          17.0247974936806,
          16.967521911582253,
          16.967521911582253,
          16.967521911582253,
          16.910246329483904,
          16.85297074738556,
          16.85297074738556,
          16.85297074738556,
          16.79569516528721,
          16.738419583188865,
          16.738419583188865,
          16.623868418992167,
          16.623868418992167,
          16.623868418992167,
          16.623868418992167,
          16.623868418992167,
          16.56659283689382,
          16.39476609059878,
          16.33749050850043,
          16.33749050850043,
          16.33749050850043,
          16.28021492640208,
          16.28021492640208,
          16.222939344303732,
          16.165663762205387,
          16.10838818010704,
          16.10838818010704,
          16.05111259800869,
          16.05111259800869,
          15.993837015910344,
          15.993837015910344,
          15.936561433811995,
          15.936561433811995,
          15.8220102696153,
          15.764734687516953,
          15.764734687516953,
          15.764734687516953,
          15.707459105418605,
          15.707459105418605,
          15.707459105418605,
          15.650183523320257,
          15.59290794122191,
          15.59290794122191,
          15.59290794122191,
          15.535632359123563,
          15.535632359123563,
          15.535632359123563,
          15.478356777025214,
          15.421081194926867,
          15.363805612828518,
          15.363805612828518,
          15.363805612828518,
          15.363805612828518,
          15.363805612828518,
          15.306530030730173,
          15.249254448631824,
          15.191978866533475,
          15.134703284435128,
          15.134703284435128,
          15.134703284435128,
          15.07742770233678,
          15.07742770233678,
          15.020152120238434,
          15.020152120238434,
          15.020152120238434,
          14.962876538140085,
          14.962876538140085,
          14.962876538140085,
          14.962876538140085,
          14.905600956041736,
          14.905600956041736,
          14.848325373943391,
          14.848325373943391,
          14.848325373943391,
          14.791049791845042,
          14.791049791845042,
          14.733774209746695,
          14.733774209746695,
          14.733774209746695,
          14.733774209746695,
          14.676498627648346,
          14.676498627648346,
          14.619223045549997,
          14.619223045549997,
          14.619223045549997,
          14.619223045549997,
          14.561947463451652,
          14.561947463451652,
          14.504671881353303,
          14.504671881353303,
          14.504671881353303,
          14.504671881353303,
          14.504671881353303,
          14.447396299254956,
          14.447396299254956,
          14.447396299254956,
          14.447396299254956,
          14.447396299254956,
          14.447396299254956,
          14.39012071715661,
          14.39012071715661,
          14.39012071715661,
          14.39012071715661,
          14.33284513505826,
          14.33284513505826,
          14.33284513505826,
          14.33284513505826,
          14.33284513505826,
          14.275569552959913,
          14.275569552959913,
          14.218293970861565,
          14.218293970861565,
          14.218293970861565,
          14.16101838876322,
          14.16101838876322,
          14.16101838876322,
          14.16101838876322,
          14.10374280666487,
          14.10374280666487,
          14.10374280666487,
          14.10374280666487,
          14.10374280666487,
          14.046467224566522,
          14.046467224566522,
          14.046467224566522,
          14.046467224566522,
          14.046467224566522,
          13.989191642468175,
          13.989191642468175,
          13.931916060369826,
          13.931916060369826,
          13.931916060369826,
          13.931916060369826,
          13.87464047827148,
          13.87464047827148,
          13.87464047827148,
          13.87464047827148,
          13.817364896173132,
          13.817364896173132,
          13.817364896173132,
          13.760089314074783,
          13.760089314074783,
          13.760089314074783,
          13.760089314074783,
          13.760089314074783,
          13.760089314074783,
          13.702813731976436,
          13.702813731976436,
          13.645538149878089,
          13.645538149878089,
          13.645538149878089,
          13.588262567779742,
          13.588262567779742,
          13.530986985681393,
          13.530986985681393,
          13.530986985681393,
          13.473711403583044,
          13.473711403583044,
          13.416435821484699,
          13.416435821484699,
          13.416435821484699,
          13.416435821484699,
          13.416435821484699,
          13.301884657288003,
          13.301884657288003,
          13.301884657288003,
          13.301884657288003,
          13.301884657288003,
          13.244609075189654,
          13.244609075189654,
          13.187333493091307,
          13.187333493091307,
          13.13005791099296,
          13.13005791099296,
          13.13005791099296,
          13.13005791099296,
          13.13005791099296,
          13.13005791099296,
          13.13005791099296,
          13.072782328894611,
          13.072782328894611,
          13.015506746796264,
          13.015506746796264,
          13.015506746796264,
          12.958231164697917,
          12.958231164697917,
          12.958231164697917,
          12.958231164697917,
          12.958231164697917,
          12.958231164697917,
          12.958231164697917,
          12.900955582599568,
          12.843680000501221,
          12.843680000501221,
          12.843680000501221,
          12.843680000501221,
          12.843680000501221,
          12.786404418402872,
          12.786404418402872,
          12.729128836304527,
          12.729128836304527,
          12.671853254206178,
          12.671853254206178,
          12.671853254206178,
          12.61457767210783,
          12.61457767210783,
          12.61457767210783,
          12.61457767210783,
          12.61457767210783,
          12.557302090009482,
          12.557302090009482,
          12.500026507911135,
          12.500026507911135,
          12.500026507911135,
          12.500026507911135,
          12.442750925812788,
          12.442750925812788,
          12.442750925812788,
          12.442750925812788,
          12.38547534371444,
          12.38547534371444,
          12.38547534371444,
          12.38547534371444,
          12.32819976161609,
          12.32819976161609,
          12.32819976161609,
          12.32819976161609,
          12.32819976161609,
          12.32819976161609,
          12.32819976161609,
          12.270924179517746,
          12.270924179517746,
          12.270924179517746,
          12.270924179517746,
          12.213648597419397,
          12.213648597419397,
          12.213648597419397,
          12.213648597419397,
          12.15637301532105,
          12.15637301532105,
          12.0990974332227,
          12.041821851124352,
          12.041821851124352,
          11.984546269026007,
          11.984546269026007,
          11.984546269026007,
          11.984546269026007,
          11.927270686927658,
          11.927270686927658,
          11.927270686927658,
          11.927270686927658,
          11.86999510482931,
          11.86999510482931,
          11.86999510482931,
          11.86999510482931,
          11.86999510482931,
          11.812719522730962,
          11.812719522730962,
          11.755443940632615,
          11.755443940632615,
          11.755443940632615,
          11.698168358534268,
          11.64089277643592,
          11.64089277643592,
          11.64089277643592,
          11.583617194337574,
          11.583617194337574,
          11.583617194337574,
          11.583617194337574,
          11.526341612239225,
          11.526341612239225,
          11.526341612239225,
          11.469066030140876,
          11.469066030140876,
          11.41179044804253,
          11.41179044804253,
          11.41179044804253,
          11.35451486594418,
          11.35451486594418,
          11.35451486594418,
          11.35451486594418,
          11.239963701747486,
          11.239963701747486,
          11.239963701747486,
          11.239963701747486,
          11.239963701747486,
          11.239963701747486,
          11.239963701747486,
          11.239963701747486,
          11.182688119649137,
          11.12541253755079,
          11.068136955452443,
          10.552656716567315,
          10.438105552370619,
          10.438105552370619,
          10.380829970272272,
          10.323554388173923,
          10.323554388173923,
          10.323554388173923,
          10.266278806075576,
          10.094452059780533,
          10.037176477682184,
          10.037176477682184,
          9.808074149288794,
          9.808074149288794,
          9.808074149288794,
          9.808074149288794,
          9.578971820895404,
          9.578971820895404,
          9.521696238797055,
          9.464420656698707,
          9.407145074600361,
          9.292593910403667,
          9.292593910403667,
          9.235318328305318,
          9.17804274620697,
          9.12076716410862,
          9.12076716410862,
          9.12076716410862,
          8.948940417813578,
          8.948940417813578,
          8.891664835715229,
          8.891664835715229,
          8.71983808942019,
          8.605286925223492,
          8.605286925223492,
          8.490735761026798,
          8.490735761026798,
          8.43346017892845,
          8.318909014731755,
          8.318909014731755,
          8.318909014731755,
          8.204357850535057,
          8.089806686338363,
          7.975255522141669,
          7.91797994004332,
          7.803428775846626,
          7.7461531937482775,
          7.688877611649932,
          7.517050865354886,
          7.517050865354886,
          7.459775283256537,
          7.459775283256537,
          7.402499701158192,
          7.230672954863149,
          7.230672954863149,
          7.116121790666451,
          7.001570626469761,
          6.944295044371412,
          6.829743880174714,
          6.71519271597802,
          6.657917133879671,
          6.600641551781322,
          6.600641551781322,
          6.543365969682974,
          6.543365969682974,
          6.486090387584632,
          6.428814805486283,
          6.428814805486283,
          6.199712477092891,
          5.741507820306108,
          5.684232238207759,
          5.5696810740110685,
          5.5696810740110685,
          5.5696810740110685,
          5.455129909814371,
          5.397854327716022,
          5.283303163519328,
          5.283303163519328,
          4.939649670929242,
          4.882374088830893,
          4.8250985067325445,
          4.8250985067325445,
          4.71054734253585,
          4.653271760437502,
          4.366893849945765,
          4.252342685749067,
          4.195067103650725,
          4.023240357355679,
          3.851413611060636,
          3.3932089542738524,
          2.763177551192033,
          1.904043819716815,
          1.6749414913234233,
          1.331287998733341,
          1.0449100882416005,
          0.873083341946554,
          0.6439810135531658,
          0.47215426725812293,
          0.35760310306142884,
          -0.10060155372535107,
          -0.44425504631544044,
          -0.7879085389055263,
          -1.188837613593961,
          -2.1052469271675207,
          -2.2197980913642184,
          -2.3916248376592577,
          -3.078931822839433,
          -3.078931822839433,
          -3.078931822839433,
          -3.078931822839433,
          -3.078931822839433,
          -3.078931822839433,
          -3.078931822839433,
          -3.078931822839433,
          -3.078931822839433,
          -3.078931822839433,
          -3.078931822839433,
          -3.078931822839433,
          -3.078931822839433,
          -3.078931822839433,
          -3.078931822839433,
          -3.078931822839433
         ],
         "yaxis": "y"
        }
       ],
       "layout": {
        "legend": {
         "tracegroupgap": 0
        },
        "margin": {
         "t": 60
        },
        "template": {
         "data": {
          "bar": [
           {
            "error_x": {
             "color": "#2a3f5f"
            },
            "error_y": {
             "color": "#2a3f5f"
            },
            "marker": {
             "line": {
              "color": "#E5ECF6",
              "width": 0.5
             },
             "pattern": {
              "fillmode": "overlay",
              "size": 10,
              "solidity": 0.2
             }
            },
            "type": "bar"
           }
          ],
          "barpolar": [
           {
            "marker": {
             "line": {
              "color": "#E5ECF6",
              "width": 0.5
             },
             "pattern": {
              "fillmode": "overlay",
              "size": 10,
              "solidity": 0.2
             }
            },
            "type": "barpolar"
           }
          ],
          "carpet": [
           {
            "aaxis": {
             "endlinecolor": "#2a3f5f",
             "gridcolor": "white",
             "linecolor": "white",
             "minorgridcolor": "white",
             "startlinecolor": "#2a3f5f"
            },
            "baxis": {
             "endlinecolor": "#2a3f5f",
             "gridcolor": "white",
             "linecolor": "white",
             "minorgridcolor": "white",
             "startlinecolor": "#2a3f5f"
            },
            "type": "carpet"
           }
          ],
          "choropleth": [
           {
            "colorbar": {
             "outlinewidth": 0,
             "ticks": ""
            },
            "type": "choropleth"
           }
          ],
          "contour": [
           {
            "colorbar": {
             "outlinewidth": 0,
             "ticks": ""
            },
            "colorscale": [
             [
              0,
              "#0d0887"
             ],
             [
              0.1111111111111111,
              "#46039f"
             ],
             [
              0.2222222222222222,
              "#7201a8"
             ],
             [
              0.3333333333333333,
              "#9c179e"
             ],
             [
              0.4444444444444444,
              "#bd3786"
             ],
             [
              0.5555555555555556,
              "#d8576b"
             ],
             [
              0.6666666666666666,
              "#ed7953"
             ],
             [
              0.7777777777777778,
              "#fb9f3a"
             ],
             [
              0.8888888888888888,
              "#fdca26"
             ],
             [
              1,
              "#f0f921"
             ]
            ],
            "type": "contour"
           }
          ],
          "contourcarpet": [
           {
            "colorbar": {
             "outlinewidth": 0,
             "ticks": ""
            },
            "type": "contourcarpet"
           }
          ],
          "heatmap": [
           {
            "colorbar": {
             "outlinewidth": 0,
             "ticks": ""
            },
            "colorscale": [
             [
              0,
              "#0d0887"
             ],
             [
              0.1111111111111111,
              "#46039f"
             ],
             [
              0.2222222222222222,
              "#7201a8"
             ],
             [
              0.3333333333333333,
              "#9c179e"
             ],
             [
              0.4444444444444444,
              "#bd3786"
             ],
             [
              0.5555555555555556,
              "#d8576b"
             ],
             [
              0.6666666666666666,
              "#ed7953"
             ],
             [
              0.7777777777777778,
              "#fb9f3a"
             ],
             [
              0.8888888888888888,
              "#fdca26"
             ],
             [
              1,
              "#f0f921"
             ]
            ],
            "type": "heatmap"
           }
          ],
          "heatmapgl": [
           {
            "colorbar": {
             "outlinewidth": 0,
             "ticks": ""
            },
            "colorscale": [
             [
              0,
              "#0d0887"
             ],
             [
              0.1111111111111111,
              "#46039f"
             ],
             [
              0.2222222222222222,
              "#7201a8"
             ],
             [
              0.3333333333333333,
              "#9c179e"
             ],
             [
              0.4444444444444444,
              "#bd3786"
             ],
             [
              0.5555555555555556,
              "#d8576b"
             ],
             [
              0.6666666666666666,
              "#ed7953"
             ],
             [
              0.7777777777777778,
              "#fb9f3a"
             ],
             [
              0.8888888888888888,
              "#fdca26"
             ],
             [
              1,
              "#f0f921"
             ]
            ],
            "type": "heatmapgl"
           }
          ],
          "histogram": [
           {
            "marker": {
             "pattern": {
              "fillmode": "overlay",
              "size": 10,
              "solidity": 0.2
             }
            },
            "type": "histogram"
           }
          ],
          "histogram2d": [
           {
            "colorbar": {
             "outlinewidth": 0,
             "ticks": ""
            },
            "colorscale": [
             [
              0,
              "#0d0887"
             ],
             [
              0.1111111111111111,
              "#46039f"
             ],
             [
              0.2222222222222222,
              "#7201a8"
             ],
             [
              0.3333333333333333,
              "#9c179e"
             ],
             [
              0.4444444444444444,
              "#bd3786"
             ],
             [
              0.5555555555555556,
              "#d8576b"
             ],
             [
              0.6666666666666666,
              "#ed7953"
             ],
             [
              0.7777777777777778,
              "#fb9f3a"
             ],
             [
              0.8888888888888888,
              "#fdca26"
             ],
             [
              1,
              "#f0f921"
             ]
            ],
            "type": "histogram2d"
           }
          ],
          "histogram2dcontour": [
           {
            "colorbar": {
             "outlinewidth": 0,
             "ticks": ""
            },
            "colorscale": [
             [
              0,
              "#0d0887"
             ],
             [
              0.1111111111111111,
              "#46039f"
             ],
             [
              0.2222222222222222,
              "#7201a8"
             ],
             [
              0.3333333333333333,
              "#9c179e"
             ],
             [
              0.4444444444444444,
              "#bd3786"
             ],
             [
              0.5555555555555556,
              "#d8576b"
             ],
             [
              0.6666666666666666,
              "#ed7953"
             ],
             [
              0.7777777777777778,
              "#fb9f3a"
             ],
             [
              0.8888888888888888,
              "#fdca26"
             ],
             [
              1,
              "#f0f921"
             ]
            ],
            "type": "histogram2dcontour"
           }
          ],
          "mesh3d": [
           {
            "colorbar": {
             "outlinewidth": 0,
             "ticks": ""
            },
            "type": "mesh3d"
           }
          ],
          "parcoords": [
           {
            "line": {
             "colorbar": {
              "outlinewidth": 0,
              "ticks": ""
             }
            },
            "type": "parcoords"
           }
          ],
          "pie": [
           {
            "automargin": true,
            "type": "pie"
           }
          ],
          "scatter": [
           {
            "fillpattern": {
             "fillmode": "overlay",
             "size": 10,
             "solidity": 0.2
            },
            "type": "scatter"
           }
          ],
          "scatter3d": [
           {
            "line": {
             "colorbar": {
              "outlinewidth": 0,
              "ticks": ""
             }
            },
            "marker": {
             "colorbar": {
              "outlinewidth": 0,
              "ticks": ""
             }
            },
            "type": "scatter3d"
           }
          ],
          "scattercarpet": [
           {
            "marker": {
             "colorbar": {
              "outlinewidth": 0,
              "ticks": ""
             }
            },
            "type": "scattercarpet"
           }
          ],
          "scattergeo": [
           {
            "marker": {
             "colorbar": {
              "outlinewidth": 0,
              "ticks": ""
             }
            },
            "type": "scattergeo"
           }
          ],
          "scattergl": [
           {
            "marker": {
             "colorbar": {
              "outlinewidth": 0,
              "ticks": ""
             }
            },
            "type": "scattergl"
           }
          ],
          "scattermapbox": [
           {
            "marker": {
             "colorbar": {
              "outlinewidth": 0,
              "ticks": ""
             }
            },
            "type": "scattermapbox"
           }
          ],
          "scatterpolar": [
           {
            "marker": {
             "colorbar": {
              "outlinewidth": 0,
              "ticks": ""
             }
            },
            "type": "scatterpolar"
           }
          ],
          "scatterpolargl": [
           {
            "marker": {
             "colorbar": {
              "outlinewidth": 0,
              "ticks": ""
             }
            },
            "type": "scatterpolargl"
           }
          ],
          "scatterternary": [
           {
            "marker": {
             "colorbar": {
              "outlinewidth": 0,
              "ticks": ""
             }
            },
            "type": "scatterternary"
           }
          ],
          "surface": [
           {
            "colorbar": {
             "outlinewidth": 0,
             "ticks": ""
            },
            "colorscale": [
             [
              0,
              "#0d0887"
             ],
             [
              0.1111111111111111,
              "#46039f"
             ],
             [
              0.2222222222222222,
              "#7201a8"
             ],
             [
              0.3333333333333333,
              "#9c179e"
             ],
             [
              0.4444444444444444,
              "#bd3786"
             ],
             [
              0.5555555555555556,
              "#d8576b"
             ],
             [
              0.6666666666666666,
              "#ed7953"
             ],
             [
              0.7777777777777778,
              "#fb9f3a"
             ],
             [
              0.8888888888888888,
              "#fdca26"
             ],
             [
              1,
              "#f0f921"
             ]
            ],
            "type": "surface"
           }
          ],
          "table": [
           {
            "cells": {
             "fill": {
              "color": "#EBF0F8"
             },
             "line": {
              "color": "white"
             }
            },
            "header": {
             "fill": {
              "color": "#C8D4E3"
             },
             "line": {
              "color": "white"
             }
            },
            "type": "table"
           }
          ]
         },
         "layout": {
          "annotationdefaults": {
           "arrowcolor": "#2a3f5f",
           "arrowhead": 0,
           "arrowwidth": 1
          },
          "autotypenumbers": "strict",
          "coloraxis": {
           "colorbar": {
            "outlinewidth": 0,
            "ticks": ""
           }
          },
          "colorscale": {
           "diverging": [
            [
             0,
             "#8e0152"
            ],
            [
             0.1,
             "#c51b7d"
            ],
            [
             0.2,
             "#de77ae"
            ],
            [
             0.3,
             "#f1b6da"
            ],
            [
             0.4,
             "#fde0ef"
            ],
            [
             0.5,
             "#f7f7f7"
            ],
            [
             0.6,
             "#e6f5d0"
            ],
            [
             0.7,
             "#b8e186"
            ],
            [
             0.8,
             "#7fbc41"
            ],
            [
             0.9,
             "#4d9221"
            ],
            [
             1,
             "#276419"
            ]
           ],
           "sequential": [
            [
             0,
             "#0d0887"
            ],
            [
             0.1111111111111111,
             "#46039f"
            ],
            [
             0.2222222222222222,
             "#7201a8"
            ],
            [
             0.3333333333333333,
             "#9c179e"
            ],
            [
             0.4444444444444444,
             "#bd3786"
            ],
            [
             0.5555555555555556,
             "#d8576b"
            ],
            [
             0.6666666666666666,
             "#ed7953"
            ],
            [
             0.7777777777777778,
             "#fb9f3a"
            ],
            [
             0.8888888888888888,
             "#fdca26"
            ],
            [
             1,
             "#f0f921"
            ]
           ],
           "sequentialminus": [
            [
             0,
             "#0d0887"
            ],
            [
             0.1111111111111111,
             "#46039f"
            ],
            [
             0.2222222222222222,
             "#7201a8"
            ],
            [
             0.3333333333333333,
             "#9c179e"
            ],
            [
             0.4444444444444444,
             "#bd3786"
            ],
            [
             0.5555555555555556,
             "#d8576b"
            ],
            [
             0.6666666666666666,
             "#ed7953"
            ],
            [
             0.7777777777777778,
             "#fb9f3a"
            ],
            [
             0.8888888888888888,
             "#fdca26"
            ],
            [
             1,
             "#f0f921"
            ]
           ]
          },
          "colorway": [
           "#636efa",
           "#EF553B",
           "#00cc96",
           "#ab63fa",
           "#FFA15A",
           "#19d3f3",
           "#FF6692",
           "#B6E880",
           "#FF97FF",
           "#FECB52"
          ],
          "font": {
           "color": "#2a3f5f"
          },
          "geo": {
           "bgcolor": "white",
           "lakecolor": "white",
           "landcolor": "#E5ECF6",
           "showlakes": true,
           "showland": true,
           "subunitcolor": "white"
          },
          "hoverlabel": {
           "align": "left"
          },
          "hovermode": "closest",
          "mapbox": {
           "style": "light"
          },
          "paper_bgcolor": "white",
          "plot_bgcolor": "#E5ECF6",
          "polar": {
           "angularaxis": {
            "gridcolor": "white",
            "linecolor": "white",
            "ticks": ""
           },
           "bgcolor": "#E5ECF6",
           "radialaxis": {
            "gridcolor": "white",
            "linecolor": "white",
            "ticks": ""
           }
          },
          "scene": {
           "xaxis": {
            "backgroundcolor": "#E5ECF6",
            "gridcolor": "white",
            "gridwidth": 2,
            "linecolor": "white",
            "showbackground": true,
            "ticks": "",
            "zerolinecolor": "white"
           },
           "yaxis": {
            "backgroundcolor": "#E5ECF6",
            "gridcolor": "white",
            "gridwidth": 2,
            "linecolor": "white",
            "showbackground": true,
            "ticks": "",
            "zerolinecolor": "white"
           },
           "zaxis": {
            "backgroundcolor": "#E5ECF6",
            "gridcolor": "white",
            "gridwidth": 2,
            "linecolor": "white",
            "showbackground": true,
            "ticks": "",
            "zerolinecolor": "white"
           }
          },
          "shapedefaults": {
           "line": {
            "color": "#2a3f5f"
           }
          },
          "ternary": {
           "aaxis": {
            "gridcolor": "white",
            "linecolor": "white",
            "ticks": ""
           },
           "baxis": {
            "gridcolor": "white",
            "linecolor": "white",
            "ticks": ""
           },
           "bgcolor": "#E5ECF6",
           "caxis": {
            "gridcolor": "white",
            "linecolor": "white",
            "ticks": ""
           }
          },
          "title": {
           "x": 0.05
          },
          "xaxis": {
           "automargin": true,
           "gridcolor": "white",
           "linecolor": "white",
           "ticks": "",
           "title": {
            "standoff": 15
           },
           "zerolinecolor": "white",
           "zerolinewidth": 2
          },
          "yaxis": {
           "automargin": true,
           "gridcolor": "white",
           "linecolor": "white",
           "ticks": "",
           "title": {
            "standoff": 15
           },
           "zerolinecolor": "white",
           "zerolinewidth": 2
          }
         }
        },
        "xaxis": {
         "anchor": "y",
         "domain": [
          0,
          1
         ],
         "title": {
          "text": "PRICE"
         }
        },
        "yaxis": {
         "anchor": "x",
         "domain": [
          0,
          1
         ],
         "title": {
          "text": "LSTAT"
         }
        }
       }
      }
     },
     "metadata": {},
     "output_type": "display_data"
    }
   ],
   "source": [
    "fig = px.scatter(df,'PRICE',y='LSTAT',trendline=\"ols\")\n",
    "fig.show()"
   ]
  },
  {
   "cell_type": "markdown",
   "metadata": {},
   "source": [
    "## Q6: Use a lmplot to draw the relations between price and RM."
   ]
  },
  {
   "cell_type": "code",
   "execution_count": 393,
   "metadata": {},
   "outputs": [
    {
     "data": {
      "application/vnd.plotly.v1+json": {
       "config": {
        "plotlyServerURL": "https://plot.ly"
       },
       "data": [
        {
         "hovertemplate": "PRICE=%{x}<br>RM=%{y}<extra></extra>",
         "legendgroup": "",
         "marker": {
          "color": "#636efa",
          "symbol": "circle"
         },
         "mode": "markers",
         "name": "",
         "orientation": "v",
         "showlegend": false,
         "type": "scatter",
         "x": [
          24,
          21.6,
          34.7,
          33.4,
          36.2,
          28.7,
          22.9,
          27.1,
          16.5,
          18.9,
          15,
          18.9,
          21.7,
          20.4,
          18.2,
          19.9,
          23.1,
          17.5,
          20.2,
          18.2,
          13.6,
          19.6,
          15.2,
          14.5,
          15.6,
          13.9,
          16.6,
          14.8,
          18.4,
          21,
          12.7,
          14.5,
          13.2,
          13.1,
          13.5,
          18.9,
          20,
          21,
          24.7,
          30.8,
          34.9,
          26.6,
          25.3,
          24.7,
          21.2,
          19.3,
          20,
          16.6,
          14.4,
          19.4,
          19.7,
          20.5,
          25,
          23.4,
          18.9,
          35.4,
          24.7,
          31.6,
          23.3,
          19.6,
          18.7,
          16,
          22.2,
          25,
          33,
          23.5,
          19.4,
          22,
          17.4,
          20.9,
          24.2,
          21.7,
          22.8,
          23.4,
          24.1,
          21.4,
          20,
          20.8,
          21.2,
          20.3,
          28,
          23.9,
          24.8,
          22.9,
          23.9,
          26.6,
          22.5,
          22.2,
          23.6,
          28.7,
          22.6,
          22,
          22.9,
          25,
          20.6,
          28.4,
          21.4,
          38.7,
          43.8,
          33.2,
          27.5,
          26.5,
          18.6,
          19.3,
          20.1,
          19.5,
          19.5,
          20.4,
          19.8,
          19.4,
          21.7,
          22.8,
          18.8,
          18.7,
          18.5,
          18.3,
          21.2,
          19.2,
          20.4,
          19.3,
          22,
          20.3,
          20.5,
          17.3,
          18.8,
          21.4,
          15.7,
          16.2,
          18,
          14.3,
          19.2,
          19.6,
          23,
          18.4,
          15.6,
          18.1,
          17.4,
          17.1,
          13.3,
          17.8,
          14,
          14.4,
          13.4,
          15.6,
          11.8,
          13.8,
          15.6,
          14.6,
          17.8,
          15.4,
          21.5,
          19.6,
          15.3,
          19.4,
          17,
          15.6,
          13.1,
          41.3,
          24.3,
          23.3,
          27,
          50,
          50,
          50,
          22.7,
          25,
          50,
          23.8,
          23.8,
          22.3,
          17.4,
          19.1,
          23.1,
          23.6,
          22.6,
          29.4,
          23.2,
          24.6,
          29.9,
          37.2,
          39.8,
          36.2,
          37.9,
          32.5,
          26.4,
          29.6,
          50,
          32,
          29.8,
          34.9,
          37,
          30.5,
          36.4,
          31.1,
          29.1,
          50,
          33.3,
          30.3,
          34.6,
          34.9,
          32.9,
          24.1,
          42.3,
          48.5,
          50,
          22.6,
          24.4,
          22.5,
          24.4,
          20,
          21.7,
          19.3,
          22.4,
          28.1,
          23.7,
          25,
          23.3,
          28.7,
          21.5,
          23,
          26.7,
          21.7,
          27.5,
          30.1,
          44.8,
          50,
          37.6,
          31.6,
          46.7,
          31.5,
          24.3,
          31.7,
          41.7,
          48.3,
          29,
          24,
          25.1,
          31.5,
          23.7,
          23.3,
          22,
          20.1,
          22.2,
          23.7,
          17.6,
          18.5,
          24.3,
          20.5,
          24.5,
          26.2,
          24.4,
          24.8,
          29.6,
          42.8,
          21.9,
          20.9,
          44,
          50,
          36,
          30.1,
          33.8,
          43.1,
          48.8,
          31,
          36.5,
          22.8,
          30.7,
          50,
          43.5,
          20.7,
          21.1,
          25.2,
          24.4,
          35.2,
          32.4,
          32,
          33.2,
          33.1,
          29.1,
          35.1,
          45.4,
          35.4,
          46,
          50,
          32.2,
          22,
          20.1,
          23.2,
          22.3,
          24.8,
          28.5,
          37.3,
          27.9,
          23.9,
          21.7,
          28.6,
          27.1,
          20.3,
          22.5,
          29,
          24.8,
          22,
          26.4,
          33.1,
          36.1,
          28.4,
          33.4,
          28.2,
          22.8,
          20.3,
          16.1,
          22.1,
          19.4,
          21.6,
          23.8,
          16.2,
          17.8,
          19.8,
          23.1,
          21,
          23.8,
          23.1,
          20.4,
          18.5,
          25,
          24.6,
          23,
          22.2,
          19.3,
          22.6,
          19.8,
          17.1,
          19.4,
          22.2,
          20.7,
          21.1,
          19.5,
          18.5,
          20.6,
          19,
          18.7,
          32.7,
          16.5,
          23.9,
          31.2,
          17.5,
          17.2,
          23.1,
          24.5,
          26.6,
          22.9,
          24.1,
          18.6,
          30.1,
          18.2,
          20.6,
          17.8,
          21.7,
          22.7,
          22.6,
          25,
          19.9,
          20.8,
          16.8,
          21.9,
          27.5,
          21.9,
          23.1,
          50,
          50,
          50,
          50,
          50,
          13.8,
          13.8,
          15,
          13.9,
          13.3,
          13.1,
          10.2,
          10.4,
          10.9,
          11.3,
          12.3,
          8.8,
          7.2,
          10.5,
          7.4,
          10.2,
          11.5,
          15.1,
          23.2,
          9.7,
          13.8,
          12.7,
          13.1,
          12.5,
          8.5,
          5,
          6.3,
          5.6,
          7.2,
          12.1,
          8.3,
          8.5,
          5,
          11.9,
          27.9,
          17.2,
          27.5,
          15,
          17.2,
          17.9,
          16.3,
          7,
          7.2,
          7.5,
          10.4,
          8.8,
          8.4,
          16.7,
          14.2,
          20.8,
          13.4,
          11.7,
          8.3,
          10.2,
          10.9,
          11,
          9.5,
          14.5,
          14.1,
          16.1,
          14.3,
          11.7,
          13.4,
          9.6,
          8.7,
          8.4,
          12.8,
          10.5,
          17.1,
          18.4,
          15.4,
          10.8,
          11.8,
          14.9,
          12.6,
          14.1,
          13,
          13.4,
          15.2,
          16.1,
          17.8,
          14.9,
          14.1,
          12.7,
          13.5,
          14.9,
          20,
          16.4,
          17.7,
          19.5,
          20.2,
          21.4,
          19.9,
          19,
          19.1,
          19.1,
          20.1,
          19.9,
          19.6,
          23.2,
          29.8,
          13.8,
          13.3,
          16.7,
          12,
          14.6,
          21.4,
          23,
          23.7,
          25,
          21.8,
          20.6,
          21.2,
          19.1,
          20.6,
          15.2,
          7,
          8.1,
          13.6,
          20.1,
          21.8,
          24.5,
          23.1,
          19.7,
          18.3,
          21.2,
          17.5,
          16.8,
          22.4,
          20.6,
          23.9,
          22,
          11.9
         ],
         "xaxis": "x",
         "y": [
          6.575,
          6.421,
          7.185,
          6.998,
          7.147,
          6.43,
          6.012,
          6.172,
          5.631,
          6.004,
          6.377,
          6.009,
          5.889,
          5.949,
          6.096,
          5.834,
          5.935,
          5.99,
          5.456,
          5.727,
          5.57,
          5.965,
          6.142,
          5.813,
          5.924,
          5.599,
          5.813,
          6.047,
          6.495,
          6.674,
          5.713,
          6.072,
          5.95,
          5.701,
          6.096,
          5.933,
          5.841,
          5.85,
          5.966,
          6.595,
          7.024,
          6.77,
          6.169,
          6.211,
          6.069,
          5.682,
          5.786,
          6.03,
          5.399,
          5.602,
          5.963,
          6.115,
          6.511,
          5.998,
          5.888,
          7.249,
          6.383,
          6.816,
          6.145,
          5.927,
          5.741,
          5.966,
          6.456,
          6.762,
          7.104,
          6.29,
          5.787,
          5.878,
          5.594,
          5.885,
          6.417,
          5.961,
          6.065,
          6.245,
          6.273,
          6.286,
          6.279,
          6.14,
          6.232,
          5.874,
          6.727,
          6.619,
          6.302,
          6.167,
          6.389,
          6.63,
          6.015,
          6.121,
          7.007,
          7.079,
          6.417,
          6.405,
          6.442,
          6.211,
          6.249,
          6.625,
          6.163,
          8.069,
          7.82,
          7.416,
          6.727,
          6.781,
          6.405,
          6.137,
          6.167,
          5.851,
          5.836,
          6.127,
          6.474,
          6.229,
          6.195,
          6.715,
          5.913,
          6.092,
          6.254,
          5.928,
          6.176,
          6.021,
          5.872,
          5.731,
          5.87,
          6.004,
          5.961,
          5.856,
          5.879,
          5.986,
          5.613,
          5.693,
          6.431,
          5.637,
          6.458,
          6.326,
          6.372,
          5.822,
          5.757,
          6.335,
          5.942,
          6.454,
          5.857,
          6.151,
          6.174,
          5.019,
          5.403,
          5.468,
          4.903,
          6.13,
          5.628,
          4.926,
          5.186,
          5.597,
          6.122,
          5.404,
          5.012,
          5.709,
          6.129,
          6.152,
          5.272,
          6.943,
          6.066,
          6.51,
          6.25,
          7.489,
          7.802,
          8.375,
          5.854,
          6.101,
          7.929,
          5.877,
          6.319,
          6.402,
          5.875,
          5.88,
          5.572,
          6.416,
          5.859,
          6.546,
          6.02,
          6.315,
          6.86,
          6.98,
          7.765,
          6.144,
          7.155,
          6.563,
          5.604,
          6.153,
          7.831,
          6.782,
          6.556,
          7.185,
          6.951,
          6.739,
          7.178,
          6.8,
          6.604,
          7.875,
          7.287,
          7.107,
          7.274,
          6.975,
          7.135,
          6.162,
          7.61,
          7.853,
          8.034,
          5.891,
          6.326,
          5.783,
          6.064,
          5.344,
          5.96,
          5.404,
          5.807,
          6.375,
          5.412,
          6.182,
          5.888,
          6.642,
          5.951,
          6.373,
          6.951,
          6.164,
          6.879,
          6.618,
          8.266,
          8.725,
          8.04,
          7.163,
          7.686,
          6.552,
          5.981,
          7.412,
          8.337,
          8.247,
          6.726,
          6.086,
          6.631,
          7.358,
          6.481,
          6.606,
          6.897,
          6.095,
          6.358,
          6.393,
          5.593,
          5.605,
          6.108,
          6.226,
          6.433,
          6.718,
          6.487,
          6.438,
          6.957,
          8.259,
          6.108,
          5.876,
          7.454,
          8.704,
          7.333,
          6.842,
          7.203,
          7.52,
          8.398,
          7.327,
          7.206,
          5.56,
          7.014,
          8.297,
          7.47,
          5.92,
          5.856,
          6.24,
          6.538,
          7.691,
          6.758,
          6.854,
          7.267,
          6.826,
          6.482,
          6.812,
          7.82,
          6.968,
          7.645,
          7.923,
          7.088,
          6.453,
          6.23,
          6.209,
          6.315,
          6.565,
          6.861,
          7.148,
          6.63,
          6.127,
          6.009,
          6.678,
          6.549,
          5.79,
          6.345,
          7.041,
          6.871,
          6.59,
          6.495,
          6.982,
          7.236,
          6.616,
          7.42,
          6.849,
          6.635,
          5.972,
          4.973,
          6.122,
          6.023,
          6.266,
          6.567,
          5.705,
          5.914,
          5.782,
          6.382,
          6.113,
          6.426,
          6.376,
          6.041,
          5.708,
          6.415,
          6.431,
          6.312,
          6.083,
          5.868,
          6.333,
          6.144,
          5.706,
          6.031,
          6.316,
          6.31,
          6.037,
          5.869,
          5.895,
          6.059,
          5.985,
          5.968,
          7.241,
          6.54,
          6.696,
          6.874,
          6.014,
          5.898,
          6.516,
          6.635,
          6.939,
          6.49,
          6.579,
          5.884,
          6.728,
          5.663,
          5.936,
          6.212,
          6.395,
          6.127,
          6.112,
          6.398,
          6.251,
          5.362,
          5.803,
          8.78,
          3.561,
          4.963,
          3.863,
          4.97,
          6.683,
          7.016,
          6.216,
          5.875,
          4.906,
          4.138,
          7.313,
          6.649,
          6.794,
          6.38,
          6.223,
          6.968,
          6.545,
          5.536,
          5.52,
          4.368,
          5.277,
          4.652,
          5,
          4.88,
          5.39,
          5.713,
          6.051,
          5.036,
          6.193,
          5.887,
          6.471,
          6.405,
          5.747,
          5.453,
          5.852,
          5.987,
          6.343,
          6.404,
          5.349,
          5.531,
          5.683,
          4.138,
          5.608,
          5.617,
          6.852,
          5.757,
          6.657,
          4.628,
          5.155,
          4.519,
          6.434,
          6.782,
          5.304,
          5.957,
          6.824,
          6.411,
          6.006,
          5.648,
          6.103,
          5.565,
          5.896,
          5.837,
          6.202,
          6.193,
          6.38,
          6.348,
          6.833,
          6.425,
          6.436,
          6.208,
          6.629,
          6.461,
          6.152,
          5.935,
          5.627,
          5.818,
          6.406,
          6.219,
          6.485,
          5.854,
          6.459,
          6.341,
          6.251,
          6.185,
          6.417,
          6.749,
          6.655,
          6.297,
          7.393,
          6.728,
          6.525,
          5.976,
          5.936,
          6.301,
          6.081,
          6.701,
          6.376,
          6.317,
          6.513,
          6.209,
          5.759,
          5.952,
          6.003,
          5.926,
          5.713,
          6.167,
          6.229,
          6.437,
          6.98,
          5.427,
          6.162,
          6.484,
          5.304,
          6.185,
          6.229,
          6.242,
          6.75,
          7.061,
          5.762,
          5.871,
          6.312,
          6.114,
          5.905,
          5.454,
          5.414,
          5.093,
          5.983,
          5.983,
          5.707,
          5.926,
          5.67,
          5.39,
          5.794,
          6.019,
          5.569,
          6.027,
          6.593,
          6.12,
          6.976,
          6.794,
          6.03
         ],
         "yaxis": "y"
        },
        {
         "hovertemplate": "<b>OLS trendline</b><br>RM = 0.0531224 * PRICE + 5.08764<br>R<sup>2</sup>=0.483525<br><br>PRICE=%{x}<br>RM=%{y} <b>(trend)</b><extra></extra>",
         "legendgroup": "",
         "marker": {
          "color": "#636efa",
          "symbol": "circle"
         },
         "mode": "lines",
         "name": "",
         "showlegend": false,
         "type": "scatter",
         "x": [
          5,
          5,
          5.6,
          6.3,
          7,
          7,
          7.2,
          7.2,
          7.2,
          7.4,
          7.5,
          8.1,
          8.3,
          8.3,
          8.4,
          8.4,
          8.5,
          8.5,
          8.7,
          8.8,
          8.8,
          9.5,
          9.6,
          9.7,
          10.2,
          10.2,
          10.2,
          10.4,
          10.4,
          10.5,
          10.5,
          10.8,
          10.9,
          10.9,
          11,
          11.3,
          11.5,
          11.7,
          11.7,
          11.8,
          11.8,
          11.9,
          11.9,
          12,
          12.1,
          12.3,
          12.5,
          12.6,
          12.7,
          12.7,
          12.7,
          12.8,
          13,
          13.1,
          13.1,
          13.1,
          13.1,
          13.2,
          13.3,
          13.3,
          13.3,
          13.4,
          13.4,
          13.4,
          13.4,
          13.5,
          13.5,
          13.6,
          13.6,
          13.8,
          13.8,
          13.8,
          13.8,
          13.8,
          13.9,
          13.9,
          14,
          14.1,
          14.1,
          14.1,
          14.2,
          14.3,
          14.3,
          14.4,
          14.4,
          14.5,
          14.5,
          14.5,
          14.6,
          14.6,
          14.8,
          14.9,
          14.9,
          14.9,
          15,
          15,
          15,
          15.1,
          15.2,
          15.2,
          15.2,
          15.3,
          15.4,
          15.4,
          15.6,
          15.6,
          15.6,
          15.6,
          15.6,
          15.7,
          16,
          16.1,
          16.1,
          16.1,
          16.2,
          16.2,
          16.3,
          16.4,
          16.5,
          16.5,
          16.6,
          16.6,
          16.7,
          16.7,
          16.8,
          16.8,
          17,
          17.1,
          17.1,
          17.1,
          17.2,
          17.2,
          17.2,
          17.3,
          17.4,
          17.4,
          17.4,
          17.5,
          17.5,
          17.5,
          17.6,
          17.7,
          17.8,
          17.8,
          17.8,
          17.8,
          17.8,
          17.9,
          18,
          18.1,
          18.2,
          18.2,
          18.2,
          18.3,
          18.3,
          18.4,
          18.4,
          18.4,
          18.5,
          18.5,
          18.5,
          18.5,
          18.6,
          18.6,
          18.7,
          18.7,
          18.7,
          18.8,
          18.8,
          18.9,
          18.9,
          18.9,
          18.9,
          19,
          19,
          19.1,
          19.1,
          19.1,
          19.1,
          19.2,
          19.2,
          19.3,
          19.3,
          19.3,
          19.3,
          19.3,
          19.4,
          19.4,
          19.4,
          19.4,
          19.4,
          19.4,
          19.5,
          19.5,
          19.5,
          19.5,
          19.6,
          19.6,
          19.6,
          19.6,
          19.6,
          19.7,
          19.7,
          19.8,
          19.8,
          19.8,
          19.9,
          19.9,
          19.9,
          19.9,
          20,
          20,
          20,
          20,
          20,
          20.1,
          20.1,
          20.1,
          20.1,
          20.1,
          20.2,
          20.2,
          20.3,
          20.3,
          20.3,
          20.3,
          20.4,
          20.4,
          20.4,
          20.4,
          20.5,
          20.5,
          20.5,
          20.6,
          20.6,
          20.6,
          20.6,
          20.6,
          20.6,
          20.7,
          20.7,
          20.8,
          20.8,
          20.8,
          20.9,
          20.9,
          21,
          21,
          21,
          21.1,
          21.1,
          21.2,
          21.2,
          21.2,
          21.2,
          21.2,
          21.4,
          21.4,
          21.4,
          21.4,
          21.4,
          21.5,
          21.5,
          21.6,
          21.6,
          21.7,
          21.7,
          21.7,
          21.7,
          21.7,
          21.7,
          21.7,
          21.8,
          21.8,
          21.9,
          21.9,
          21.9,
          22,
          22,
          22,
          22,
          22,
          22,
          22,
          22.1,
          22.2,
          22.2,
          22.2,
          22.2,
          22.2,
          22.3,
          22.3,
          22.4,
          22.4,
          22.5,
          22.5,
          22.5,
          22.6,
          22.6,
          22.6,
          22.6,
          22.6,
          22.7,
          22.7,
          22.8,
          22.8,
          22.8,
          22.8,
          22.9,
          22.9,
          22.9,
          22.9,
          23,
          23,
          23,
          23,
          23.1,
          23.1,
          23.1,
          23.1,
          23.1,
          23.1,
          23.1,
          23.2,
          23.2,
          23.2,
          23.2,
          23.3,
          23.3,
          23.3,
          23.3,
          23.4,
          23.4,
          23.5,
          23.6,
          23.6,
          23.7,
          23.7,
          23.7,
          23.7,
          23.8,
          23.8,
          23.8,
          23.8,
          23.9,
          23.9,
          23.9,
          23.9,
          23.9,
          24,
          24,
          24.1,
          24.1,
          24.1,
          24.2,
          24.3,
          24.3,
          24.3,
          24.4,
          24.4,
          24.4,
          24.4,
          24.5,
          24.5,
          24.5,
          24.6,
          24.6,
          24.7,
          24.7,
          24.7,
          24.8,
          24.8,
          24.8,
          24.8,
          25,
          25,
          25,
          25,
          25,
          25,
          25,
          25,
          25.1,
          25.2,
          25.3,
          26.2,
          26.4,
          26.4,
          26.5,
          26.6,
          26.6,
          26.6,
          26.7,
          27,
          27.1,
          27.1,
          27.5,
          27.5,
          27.5,
          27.5,
          27.9,
          27.9,
          28,
          28.1,
          28.2,
          28.4,
          28.4,
          28.5,
          28.6,
          28.7,
          28.7,
          28.7,
          29,
          29,
          29.1,
          29.1,
          29.4,
          29.6,
          29.6,
          29.8,
          29.8,
          29.9,
          30.1,
          30.1,
          30.1,
          30.3,
          30.5,
          30.7,
          30.8,
          31,
          31.1,
          31.2,
          31.5,
          31.5,
          31.6,
          31.6,
          31.7,
          32,
          32,
          32.2,
          32.4,
          32.5,
          32.7,
          32.9,
          33,
          33.1,
          33.1,
          33.2,
          33.2,
          33.3,
          33.4,
          33.4,
          33.8,
          34.6,
          34.7,
          34.9,
          34.9,
          34.9,
          35.1,
          35.2,
          35.4,
          35.4,
          36,
          36.1,
          36.2,
          36.2,
          36.4,
          36.5,
          37,
          37.2,
          37.3,
          37.6,
          37.9,
          38.7,
          39.8,
          41.3,
          41.7,
          42.3,
          42.8,
          43.1,
          43.5,
          43.8,
          44,
          44.8,
          45.4,
          46,
          46.7,
          48.3,
          48.5,
          48.8,
          50,
          50,
          50,
          50,
          50,
          50,
          50,
          50,
          50,
          50,
          50,
          50,
          50,
          50,
          50,
          50
         ],
         "xaxis": "x",
         "y": [
          5.353250442136256,
          5.353250442136256,
          5.38512385457228,
          5.422309502414309,
          5.459495150256337,
          5.459495150256337,
          5.470119621068345,
          5.470119621068345,
          5.470119621068345,
          5.480744091880353,
          5.486056327286357,
          5.517929739722382,
          5.52855421053439,
          5.52855421053439,
          5.533866445940394,
          5.533866445940394,
          5.539178681346398,
          5.539178681346398,
          5.549803152158406,
          5.55511538756441,
          5.55511538756441,
          5.592301035406438,
          5.597613270812442,
          5.602925506218446,
          5.629486683248467,
          5.629486683248467,
          5.629486683248467,
          5.640111154060475,
          5.640111154060475,
          5.645423389466479,
          5.645423389466479,
          5.661360095684491,
          5.666672331090495,
          5.666672331090495,
          5.671984566496499,
          5.687921272714511,
          5.69854574352652,
          5.709170214338528,
          5.709170214338528,
          5.714482449744532,
          5.714482449744532,
          5.719794685150536,
          5.719794685150536,
          5.72510692055654,
          5.730419155962544,
          5.741043626774552,
          5.75166809758656,
          5.756980332992564,
          5.762292568398568,
          5.762292568398568,
          5.762292568398568,
          5.767604803804572,
          5.77822927461658,
          5.783541510022584,
          5.783541510022584,
          5.783541510022584,
          5.783541510022584,
          5.788853745428588,
          5.794165980834592,
          5.794165980834592,
          5.794165980834592,
          5.799478216240596,
          5.799478216240596,
          5.799478216240596,
          5.799478216240596,
          5.804790451646601,
          5.804790451646601,
          5.810102687052605,
          5.810102687052605,
          5.820727157864613,
          5.820727157864613,
          5.820727157864613,
          5.820727157864613,
          5.820727157864613,
          5.826039393270617,
          5.826039393270617,
          5.831351628676621,
          5.836663864082625,
          5.836663864082625,
          5.836663864082625,
          5.841976099488629,
          5.847288334894633,
          5.847288334894633,
          5.852600570300637,
          5.852600570300637,
          5.857912805706641,
          5.857912805706641,
          5.857912805706641,
          5.863225041112645,
          5.863225041112645,
          5.873849511924653,
          5.879161747330657,
          5.879161747330657,
          5.879161747330657,
          5.884473982736662,
          5.884473982736662,
          5.884473982736662,
          5.889786218142666,
          5.89509845354867,
          5.89509845354867,
          5.89509845354867,
          5.900410688954674,
          5.905722924360678,
          5.905722924360678,
          5.916347395172686,
          5.916347395172686,
          5.916347395172686,
          5.916347395172686,
          5.916347395172686,
          5.92165963057869,
          5.937596336796702,
          5.942908572202706,
          5.942908572202706,
          5.942908572202706,
          5.94822080760871,
          5.94822080760871,
          5.953533043014714,
          5.958845278420718,
          5.964157513826722,
          5.964157513826722,
          5.969469749232726,
          5.969469749232726,
          5.97478198463873,
          5.97478198463873,
          5.980094220044734,
          5.980094220044734,
          5.990718690856742,
          5.996030926262747,
          5.996030926262747,
          5.996030926262747,
          6.001343161668751,
          6.001343161668751,
          6.001343161668751,
          6.006655397074755,
          6.011967632480759,
          6.011967632480759,
          6.011967632480759,
          6.017279867886763,
          6.017279867886763,
          6.017279867886763,
          6.022592103292767,
          6.027904338698771,
          6.033216574104775,
          6.033216574104775,
          6.033216574104775,
          6.033216574104775,
          6.033216574104775,
          6.038528809510779,
          6.043841044916783,
          6.049153280322787,
          6.054465515728791,
          6.054465515728791,
          6.054465515728791,
          6.059777751134795,
          6.059777751134795,
          6.065089986540799,
          6.065089986540799,
          6.065089986540799,
          6.070402221946803,
          6.070402221946803,
          6.070402221946803,
          6.070402221946803,
          6.075714457352808,
          6.075714457352808,
          6.081026692758812,
          6.081026692758812,
          6.081026692758812,
          6.086338928164816,
          6.086338928164816,
          6.09165116357082,
          6.09165116357082,
          6.09165116357082,
          6.09165116357082,
          6.096963398976824,
          6.096963398976824,
          6.102275634382828,
          6.102275634382828,
          6.102275634382828,
          6.102275634382828,
          6.107587869788832,
          6.107587869788832,
          6.112900105194836,
          6.112900105194836,
          6.112900105194836,
          6.112900105194836,
          6.112900105194836,
          6.11821234060084,
          6.11821234060084,
          6.11821234060084,
          6.11821234060084,
          6.11821234060084,
          6.11821234060084,
          6.123524576006844,
          6.123524576006844,
          6.123524576006844,
          6.123524576006844,
          6.128836811412848,
          6.128836811412848,
          6.128836811412848,
          6.128836811412848,
          6.128836811412848,
          6.134149046818852,
          6.134149046818852,
          6.139461282224856,
          6.139461282224856,
          6.139461282224856,
          6.14477351763086,
          6.14477351763086,
          6.14477351763086,
          6.14477351763086,
          6.150085753036864,
          6.150085753036864,
          6.150085753036864,
          6.150085753036864,
          6.150085753036864,
          6.155397988442868,
          6.155397988442868,
          6.155397988442868,
          6.155397988442868,
          6.155397988442868,
          6.160710223848872,
          6.160710223848872,
          6.166022459254876,
          6.166022459254876,
          6.166022459254876,
          6.166022459254876,
          6.17133469466088,
          6.17133469466088,
          6.17133469466088,
          6.17133469466088,
          6.176646930066884,
          6.176646930066884,
          6.176646930066884,
          6.181959165472889,
          6.181959165472889,
          6.181959165472889,
          6.181959165472889,
          6.181959165472889,
          6.181959165472889,
          6.187271400878892,
          6.187271400878892,
          6.192583636284897,
          6.192583636284897,
          6.192583636284897,
          6.197895871690901,
          6.197895871690901,
          6.203208107096905,
          6.203208107096905,
          6.203208107096905,
          6.208520342502909,
          6.208520342502909,
          6.213832577908913,
          6.213832577908913,
          6.213832577908913,
          6.213832577908913,
          6.213832577908913,
          6.224457048720921,
          6.224457048720921,
          6.224457048720921,
          6.224457048720921,
          6.224457048720921,
          6.229769284126925,
          6.229769284126925,
          6.235081519532929,
          6.235081519532929,
          6.240393754938933,
          6.240393754938933,
          6.240393754938933,
          6.240393754938933,
          6.240393754938933,
          6.240393754938933,
          6.240393754938933,
          6.245705990344937,
          6.245705990344937,
          6.251018225750941,
          6.251018225750941,
          6.251018225750941,
          6.256330461156946,
          6.256330461156946,
          6.256330461156946,
          6.256330461156946,
          6.256330461156946,
          6.256330461156946,
          6.256330461156946,
          6.26164269656295,
          6.266954931968954,
          6.266954931968954,
          6.266954931968954,
          6.266954931968954,
          6.266954931968954,
          6.272267167374958,
          6.272267167374958,
          6.277579402780962,
          6.277579402780962,
          6.282891638186966,
          6.282891638186966,
          6.282891638186966,
          6.28820387359297,
          6.28820387359297,
          6.28820387359297,
          6.28820387359297,
          6.28820387359297,
          6.293516108998974,
          6.293516108998974,
          6.298828344404978,
          6.298828344404978,
          6.298828344404978,
          6.298828344404978,
          6.304140579810982,
          6.304140579810982,
          6.304140579810982,
          6.304140579810982,
          6.309452815216986,
          6.309452815216986,
          6.309452815216986,
          6.309452815216986,
          6.31476505062299,
          6.31476505062299,
          6.31476505062299,
          6.31476505062299,
          6.31476505062299,
          6.31476505062299,
          6.31476505062299,
          6.320077286028994,
          6.320077286028994,
          6.320077286028994,
          6.320077286028994,
          6.325389521434998,
          6.325389521434998,
          6.325389521434998,
          6.325389521434998,
          6.330701756841002,
          6.330701756841002,
          6.336013992247006,
          6.34132622765301,
          6.34132622765301,
          6.346638463059014,
          6.346638463059014,
          6.346638463059014,
          6.346638463059014,
          6.351950698465018,
          6.351950698465018,
          6.351950698465018,
          6.351950698465018,
          6.357262933871022,
          6.357262933871022,
          6.357262933871022,
          6.357262933871022,
          6.357262933871022,
          6.362575169277026,
          6.362575169277026,
          6.367887404683031,
          6.367887404683031,
          6.367887404683031,
          6.373199640089034,
          6.378511875495039,
          6.378511875495039,
          6.378511875495039,
          6.383824110901043,
          6.383824110901043,
          6.383824110901043,
          6.383824110901043,
          6.389136346307047,
          6.389136346307047,
          6.389136346307047,
          6.394448581713051,
          6.394448581713051,
          6.399760817119055,
          6.399760817119055,
          6.399760817119055,
          6.405073052525059,
          6.405073052525059,
          6.405073052525059,
          6.405073052525059,
          6.415697523337067,
          6.415697523337067,
          6.415697523337067,
          6.415697523337067,
          6.415697523337067,
          6.415697523337067,
          6.415697523337067,
          6.415697523337067,
          6.421009758743071,
          6.426321994149075,
          6.431634229555079,
          6.479444348209116,
          6.490068819021124,
          6.490068819021124,
          6.495381054427128,
          6.500693289833132,
          6.500693289833132,
          6.500693289833132,
          6.506005525239136,
          6.521942231457148,
          6.527254466863152,
          6.527254466863152,
          6.548503408487168,
          6.548503408487168,
          6.548503408487168,
          6.548503408487168,
          6.569752350111184,
          6.569752350111184,
          6.575064585517189,
          6.580376820923193,
          6.585689056329197,
          6.596313527141205,
          6.596313527141205,
          6.601625762547209,
          6.606937997953213,
          6.612250233359217,
          6.612250233359217,
          6.612250233359217,
          6.628186939577229,
          6.628186939577229,
          6.633499174983234,
          6.633499174983234,
          6.649435881201246,
          6.660060352013254,
          6.660060352013254,
          6.670684822825262,
          6.670684822825262,
          6.675997058231266,
          6.686621529043274,
          6.686621529043274,
          6.686621529043274,
          6.697245999855282,
          6.70787047066729,
          6.718494941479298,
          6.723807176885302,
          6.73443164769731,
          6.739743883103314,
          6.745056118509318,
          6.760992824727331,
          6.760992824727331,
          6.766305060133335,
          6.766305060133335,
          6.771617295539339,
          6.787554001757351,
          6.787554001757351,
          6.798178472569359,
          6.808802943381367,
          6.814115178787371,
          6.82473964959938,
          6.835364120411388,
          6.840676355817392,
          6.845988591223396,
          6.845988591223396,
          6.8513008266294,
          6.8513008266294,
          6.856613062035404,
          6.861925297441408,
          6.861925297441408,
          6.883174239065424,
          6.925672122313456,
          6.930984357719461,
          6.941608828531468,
          6.941608828531468,
          6.941608828531468,
          6.952233299343477,
          6.957545534749481,
          6.968170005561489,
          6.968170005561489,
          7.000043417997513,
          7.005355653403518,
          7.010667888809522,
          7.010667888809522,
          7.02129235962153,
          7.026604595027534,
          7.053165772057554,
          7.063790242869562,
          7.069102478275566,
          7.085039184493578,
          7.10097589071159,
          7.143473773959623,
          7.201908363425667,
          7.281591894515728,
          7.302840836139744,
          7.334714248575768,
          7.361275425605789,
          7.377212131823802,
          7.398461073447818,
          7.41439777966583,
          7.425022250477838,
          7.46752013372587,
          7.499393546161894,
          7.531266958597919,
          7.568452606439948,
          7.653448372936012,
          7.66407284374802,
          7.680009549966032,
          7.743756374838081,
          7.743756374838081,
          7.743756374838081,
          7.743756374838081,
          7.743756374838081,
          7.743756374838081,
          7.743756374838081,
          7.743756374838081,
          7.743756374838081,
          7.743756374838081,
          7.743756374838081,
          7.743756374838081,
          7.743756374838081,
          7.743756374838081,
          7.743756374838081,
          7.743756374838081
         ],
         "yaxis": "y"
        }
       ],
       "layout": {
        "legend": {
         "tracegroupgap": 0
        },
        "margin": {
         "t": 60
        },
        "template": {
         "data": {
          "bar": [
           {
            "error_x": {
             "color": "#2a3f5f"
            },
            "error_y": {
             "color": "#2a3f5f"
            },
            "marker": {
             "line": {
              "color": "#E5ECF6",
              "width": 0.5
             },
             "pattern": {
              "fillmode": "overlay",
              "size": 10,
              "solidity": 0.2
             }
            },
            "type": "bar"
           }
          ],
          "barpolar": [
           {
            "marker": {
             "line": {
              "color": "#E5ECF6",
              "width": 0.5
             },
             "pattern": {
              "fillmode": "overlay",
              "size": 10,
              "solidity": 0.2
             }
            },
            "type": "barpolar"
           }
          ],
          "carpet": [
           {
            "aaxis": {
             "endlinecolor": "#2a3f5f",
             "gridcolor": "white",
             "linecolor": "white",
             "minorgridcolor": "white",
             "startlinecolor": "#2a3f5f"
            },
            "baxis": {
             "endlinecolor": "#2a3f5f",
             "gridcolor": "white",
             "linecolor": "white",
             "minorgridcolor": "white",
             "startlinecolor": "#2a3f5f"
            },
            "type": "carpet"
           }
          ],
          "choropleth": [
           {
            "colorbar": {
             "outlinewidth": 0,
             "ticks": ""
            },
            "type": "choropleth"
           }
          ],
          "contour": [
           {
            "colorbar": {
             "outlinewidth": 0,
             "ticks": ""
            },
            "colorscale": [
             [
              0,
              "#0d0887"
             ],
             [
              0.1111111111111111,
              "#46039f"
             ],
             [
              0.2222222222222222,
              "#7201a8"
             ],
             [
              0.3333333333333333,
              "#9c179e"
             ],
             [
              0.4444444444444444,
              "#bd3786"
             ],
             [
              0.5555555555555556,
              "#d8576b"
             ],
             [
              0.6666666666666666,
              "#ed7953"
             ],
             [
              0.7777777777777778,
              "#fb9f3a"
             ],
             [
              0.8888888888888888,
              "#fdca26"
             ],
             [
              1,
              "#f0f921"
             ]
            ],
            "type": "contour"
           }
          ],
          "contourcarpet": [
           {
            "colorbar": {
             "outlinewidth": 0,
             "ticks": ""
            },
            "type": "contourcarpet"
           }
          ],
          "heatmap": [
           {
            "colorbar": {
             "outlinewidth": 0,
             "ticks": ""
            },
            "colorscale": [
             [
              0,
              "#0d0887"
             ],
             [
              0.1111111111111111,
              "#46039f"
             ],
             [
              0.2222222222222222,
              "#7201a8"
             ],
             [
              0.3333333333333333,
              "#9c179e"
             ],
             [
              0.4444444444444444,
              "#bd3786"
             ],
             [
              0.5555555555555556,
              "#d8576b"
             ],
             [
              0.6666666666666666,
              "#ed7953"
             ],
             [
              0.7777777777777778,
              "#fb9f3a"
             ],
             [
              0.8888888888888888,
              "#fdca26"
             ],
             [
              1,
              "#f0f921"
             ]
            ],
            "type": "heatmap"
           }
          ],
          "heatmapgl": [
           {
            "colorbar": {
             "outlinewidth": 0,
             "ticks": ""
            },
            "colorscale": [
             [
              0,
              "#0d0887"
             ],
             [
              0.1111111111111111,
              "#46039f"
             ],
             [
              0.2222222222222222,
              "#7201a8"
             ],
             [
              0.3333333333333333,
              "#9c179e"
             ],
             [
              0.4444444444444444,
              "#bd3786"
             ],
             [
              0.5555555555555556,
              "#d8576b"
             ],
             [
              0.6666666666666666,
              "#ed7953"
             ],
             [
              0.7777777777777778,
              "#fb9f3a"
             ],
             [
              0.8888888888888888,
              "#fdca26"
             ],
             [
              1,
              "#f0f921"
             ]
            ],
            "type": "heatmapgl"
           }
          ],
          "histogram": [
           {
            "marker": {
             "pattern": {
              "fillmode": "overlay",
              "size": 10,
              "solidity": 0.2
             }
            },
            "type": "histogram"
           }
          ],
          "histogram2d": [
           {
            "colorbar": {
             "outlinewidth": 0,
             "ticks": ""
            },
            "colorscale": [
             [
              0,
              "#0d0887"
             ],
             [
              0.1111111111111111,
              "#46039f"
             ],
             [
              0.2222222222222222,
              "#7201a8"
             ],
             [
              0.3333333333333333,
              "#9c179e"
             ],
             [
              0.4444444444444444,
              "#bd3786"
             ],
             [
              0.5555555555555556,
              "#d8576b"
             ],
             [
              0.6666666666666666,
              "#ed7953"
             ],
             [
              0.7777777777777778,
              "#fb9f3a"
             ],
             [
              0.8888888888888888,
              "#fdca26"
             ],
             [
              1,
              "#f0f921"
             ]
            ],
            "type": "histogram2d"
           }
          ],
          "histogram2dcontour": [
           {
            "colorbar": {
             "outlinewidth": 0,
             "ticks": ""
            },
            "colorscale": [
             [
              0,
              "#0d0887"
             ],
             [
              0.1111111111111111,
              "#46039f"
             ],
             [
              0.2222222222222222,
              "#7201a8"
             ],
             [
              0.3333333333333333,
              "#9c179e"
             ],
             [
              0.4444444444444444,
              "#bd3786"
             ],
             [
              0.5555555555555556,
              "#d8576b"
             ],
             [
              0.6666666666666666,
              "#ed7953"
             ],
             [
              0.7777777777777778,
              "#fb9f3a"
             ],
             [
              0.8888888888888888,
              "#fdca26"
             ],
             [
              1,
              "#f0f921"
             ]
            ],
            "type": "histogram2dcontour"
           }
          ],
          "mesh3d": [
           {
            "colorbar": {
             "outlinewidth": 0,
             "ticks": ""
            },
            "type": "mesh3d"
           }
          ],
          "parcoords": [
           {
            "line": {
             "colorbar": {
              "outlinewidth": 0,
              "ticks": ""
             }
            },
            "type": "parcoords"
           }
          ],
          "pie": [
           {
            "automargin": true,
            "type": "pie"
           }
          ],
          "scatter": [
           {
            "fillpattern": {
             "fillmode": "overlay",
             "size": 10,
             "solidity": 0.2
            },
            "type": "scatter"
           }
          ],
          "scatter3d": [
           {
            "line": {
             "colorbar": {
              "outlinewidth": 0,
              "ticks": ""
             }
            },
            "marker": {
             "colorbar": {
              "outlinewidth": 0,
              "ticks": ""
             }
            },
            "type": "scatter3d"
           }
          ],
          "scattercarpet": [
           {
            "marker": {
             "colorbar": {
              "outlinewidth": 0,
              "ticks": ""
             }
            },
            "type": "scattercarpet"
           }
          ],
          "scattergeo": [
           {
            "marker": {
             "colorbar": {
              "outlinewidth": 0,
              "ticks": ""
             }
            },
            "type": "scattergeo"
           }
          ],
          "scattergl": [
           {
            "marker": {
             "colorbar": {
              "outlinewidth": 0,
              "ticks": ""
             }
            },
            "type": "scattergl"
           }
          ],
          "scattermapbox": [
           {
            "marker": {
             "colorbar": {
              "outlinewidth": 0,
              "ticks": ""
             }
            },
            "type": "scattermapbox"
           }
          ],
          "scatterpolar": [
           {
            "marker": {
             "colorbar": {
              "outlinewidth": 0,
              "ticks": ""
             }
            },
            "type": "scatterpolar"
           }
          ],
          "scatterpolargl": [
           {
            "marker": {
             "colorbar": {
              "outlinewidth": 0,
              "ticks": ""
             }
            },
            "type": "scatterpolargl"
           }
          ],
          "scatterternary": [
           {
            "marker": {
             "colorbar": {
              "outlinewidth": 0,
              "ticks": ""
             }
            },
            "type": "scatterternary"
           }
          ],
          "surface": [
           {
            "colorbar": {
             "outlinewidth": 0,
             "ticks": ""
            },
            "colorscale": [
             [
              0,
              "#0d0887"
             ],
             [
              0.1111111111111111,
              "#46039f"
             ],
             [
              0.2222222222222222,
              "#7201a8"
             ],
             [
              0.3333333333333333,
              "#9c179e"
             ],
             [
              0.4444444444444444,
              "#bd3786"
             ],
             [
              0.5555555555555556,
              "#d8576b"
             ],
             [
              0.6666666666666666,
              "#ed7953"
             ],
             [
              0.7777777777777778,
              "#fb9f3a"
             ],
             [
              0.8888888888888888,
              "#fdca26"
             ],
             [
              1,
              "#f0f921"
             ]
            ],
            "type": "surface"
           }
          ],
          "table": [
           {
            "cells": {
             "fill": {
              "color": "#EBF0F8"
             },
             "line": {
              "color": "white"
             }
            },
            "header": {
             "fill": {
              "color": "#C8D4E3"
             },
             "line": {
              "color": "white"
             }
            },
            "type": "table"
           }
          ]
         },
         "layout": {
          "annotationdefaults": {
           "arrowcolor": "#2a3f5f",
           "arrowhead": 0,
           "arrowwidth": 1
          },
          "autotypenumbers": "strict",
          "coloraxis": {
           "colorbar": {
            "outlinewidth": 0,
            "ticks": ""
           }
          },
          "colorscale": {
           "diverging": [
            [
             0,
             "#8e0152"
            ],
            [
             0.1,
             "#c51b7d"
            ],
            [
             0.2,
             "#de77ae"
            ],
            [
             0.3,
             "#f1b6da"
            ],
            [
             0.4,
             "#fde0ef"
            ],
            [
             0.5,
             "#f7f7f7"
            ],
            [
             0.6,
             "#e6f5d0"
            ],
            [
             0.7,
             "#b8e186"
            ],
            [
             0.8,
             "#7fbc41"
            ],
            [
             0.9,
             "#4d9221"
            ],
            [
             1,
             "#276419"
            ]
           ],
           "sequential": [
            [
             0,
             "#0d0887"
            ],
            [
             0.1111111111111111,
             "#46039f"
            ],
            [
             0.2222222222222222,
             "#7201a8"
            ],
            [
             0.3333333333333333,
             "#9c179e"
            ],
            [
             0.4444444444444444,
             "#bd3786"
            ],
            [
             0.5555555555555556,
             "#d8576b"
            ],
            [
             0.6666666666666666,
             "#ed7953"
            ],
            [
             0.7777777777777778,
             "#fb9f3a"
            ],
            [
             0.8888888888888888,
             "#fdca26"
            ],
            [
             1,
             "#f0f921"
            ]
           ],
           "sequentialminus": [
            [
             0,
             "#0d0887"
            ],
            [
             0.1111111111111111,
             "#46039f"
            ],
            [
             0.2222222222222222,
             "#7201a8"
            ],
            [
             0.3333333333333333,
             "#9c179e"
            ],
            [
             0.4444444444444444,
             "#bd3786"
            ],
            [
             0.5555555555555556,
             "#d8576b"
            ],
            [
             0.6666666666666666,
             "#ed7953"
            ],
            [
             0.7777777777777778,
             "#fb9f3a"
            ],
            [
             0.8888888888888888,
             "#fdca26"
            ],
            [
             1,
             "#f0f921"
            ]
           ]
          },
          "colorway": [
           "#636efa",
           "#EF553B",
           "#00cc96",
           "#ab63fa",
           "#FFA15A",
           "#19d3f3",
           "#FF6692",
           "#B6E880",
           "#FF97FF",
           "#FECB52"
          ],
          "font": {
           "color": "#2a3f5f"
          },
          "geo": {
           "bgcolor": "white",
           "lakecolor": "white",
           "landcolor": "#E5ECF6",
           "showlakes": true,
           "showland": true,
           "subunitcolor": "white"
          },
          "hoverlabel": {
           "align": "left"
          },
          "hovermode": "closest",
          "mapbox": {
           "style": "light"
          },
          "paper_bgcolor": "white",
          "plot_bgcolor": "#E5ECF6",
          "polar": {
           "angularaxis": {
            "gridcolor": "white",
            "linecolor": "white",
            "ticks": ""
           },
           "bgcolor": "#E5ECF6",
           "radialaxis": {
            "gridcolor": "white",
            "linecolor": "white",
            "ticks": ""
           }
          },
          "scene": {
           "xaxis": {
            "backgroundcolor": "#E5ECF6",
            "gridcolor": "white",
            "gridwidth": 2,
            "linecolor": "white",
            "showbackground": true,
            "ticks": "",
            "zerolinecolor": "white"
           },
           "yaxis": {
            "backgroundcolor": "#E5ECF6",
            "gridcolor": "white",
            "gridwidth": 2,
            "linecolor": "white",
            "showbackground": true,
            "ticks": "",
            "zerolinecolor": "white"
           },
           "zaxis": {
            "backgroundcolor": "#E5ECF6",
            "gridcolor": "white",
            "gridwidth": 2,
            "linecolor": "white",
            "showbackground": true,
            "ticks": "",
            "zerolinecolor": "white"
           }
          },
          "shapedefaults": {
           "line": {
            "color": "#2a3f5f"
           }
          },
          "ternary": {
           "aaxis": {
            "gridcolor": "white",
            "linecolor": "white",
            "ticks": ""
           },
           "baxis": {
            "gridcolor": "white",
            "linecolor": "white",
            "ticks": ""
           },
           "bgcolor": "#E5ECF6",
           "caxis": {
            "gridcolor": "white",
            "linecolor": "white",
            "ticks": ""
           }
          },
          "title": {
           "x": 0.05
          },
          "xaxis": {
           "automargin": true,
           "gridcolor": "white",
           "linecolor": "white",
           "ticks": "",
           "title": {
            "standoff": 15
           },
           "zerolinecolor": "white",
           "zerolinewidth": 2
          },
          "yaxis": {
           "automargin": true,
           "gridcolor": "white",
           "linecolor": "white",
           "ticks": "",
           "title": {
            "standoff": 15
           },
           "zerolinecolor": "white",
           "zerolinewidth": 2
          }
         }
        },
        "xaxis": {
         "anchor": "y",
         "domain": [
          0,
          1
         ],
         "title": {
          "text": "PRICE"
         }
        },
        "yaxis": {
         "anchor": "x",
         "domain": [
          0,
          1
         ],
         "title": {
          "text": "RM"
         }
        }
       }
      }
     },
     "metadata": {},
     "output_type": "display_data"
    }
   ],
   "source": [
    "fig = px.scatter(df,'PRICE',y='RM',trendline=\"ols\")\n",
    "fig.show()"
   ]
  },
  {
   "cell_type": "code",
   "execution_count": 394,
   "metadata": {},
   "outputs": [
    {
     "data": {
      "text/plain": [
       "Index(['CRIM', 'ZN', 'INDUS', 'CHAS', 'NOX', 'RM', 'AGE', 'DIS', 'RAD', 'TAX',\n",
       "       'PTRATIO', 'B', 'LSTAT', 'PRICE'],\n",
       "      dtype='object')"
      ]
     },
     "execution_count": 394,
     "metadata": {},
     "output_type": "execute_result"
    }
   ],
   "source": [
    "df.columns"
   ]
  },
  {
   "cell_type": "markdown",
   "metadata": {},
   "source": [
    "## Q7: Split the dataset into Train and Test sets with test_size=30% and random_state=23."
   ]
  },
  {
   "cell_type": "code",
   "execution_count": 395,
   "metadata": {},
   "outputs": [],
   "source": [
    "from sklearn.model_selection import train_test_split"
   ]
  },
  {
   "cell_type": "code",
   "execution_count": 396,
   "metadata": {},
   "outputs": [],
   "source": [
    "X_train, X_test, y_train, y_test = train_test_split(boston['data'],boston['target'], test_size=0.3, random_state=23)"
   ]
  },
  {
   "cell_type": "code",
   "execution_count": 397,
   "metadata": {},
   "outputs": [
    {
     "data": {
      "text/plain": [
       "((354, 13), (152, 13), (354,), (152,))"
      ]
     },
     "execution_count": 397,
     "metadata": {},
     "output_type": "execute_result"
    }
   ],
   "source": [
    "X_train.shape,X_test.shape,y_train.shape,y_test.shape"
   ]
  },
  {
   "cell_type": "markdown",
   "metadata": {},
   "source": [
    "## Q8: Build a Linear Regression Model."
   ]
  },
  {
   "cell_type": "code",
   "execution_count": 398,
   "metadata": {},
   "outputs": [],
   "source": [
    "from sklearn.linear_model import LinearRegression"
   ]
  },
  {
   "cell_type": "code",
   "execution_count": 399,
   "metadata": {},
   "outputs": [],
   "source": [
    "lm = LinearRegression()"
   ]
  },
  {
   "cell_type": "markdown",
   "metadata": {},
   "source": [
    "## Q9: Train the Model."
   ]
  },
  {
   "cell_type": "code",
   "execution_count": 400,
   "metadata": {},
   "outputs": [
    {
     "data": {
      "text/plain": [
       "LinearRegression()"
      ]
     },
     "execution_count": 400,
     "metadata": {},
     "output_type": "execute_result"
    }
   ],
   "source": [
    "lm.fit(X_train,y_train)"
   ]
  },
  {
   "cell_type": "markdown",
   "metadata": {},
   "source": [
    "## Q10: Evaluate the model. \n",
    "- print intercept and coefficients.\n",
    "- compare between predictions and real values, then visualize them.\n",
    "- Draw Residual Histogram."
   ]
  },
  {
   "cell_type": "code",
   "execution_count": 401,
   "metadata": {},
   "outputs": [
    {
     "name": "stdout",
     "output_type": "stream",
     "text": [
      "27.78960670325121\n"
     ]
    },
    {
     "ename": "AttributeError",
     "evalue": "'numpy.ndarray' object has no attribute 'columns'",
     "output_type": "error",
     "traceback": [
      "\u001b[1;31m---------------------------------------------------------------------------\u001b[0m",
      "\u001b[1;31mAttributeError\u001b[0m                            Traceback (most recent call last)",
      "\u001b[1;32m~\\AppData\\Local\\Temp\\ipykernel_32868\\3193124425.py\u001b[0m in \u001b[0;36m<module>\u001b[1;34m\u001b[0m\n\u001b[0;32m      1\u001b[0m \u001b[0mprint\u001b[0m\u001b[1;33m(\u001b[0m\u001b[0mlm\u001b[0m\u001b[1;33m.\u001b[0m\u001b[0mintercept_\u001b[0m\u001b[1;33m)\u001b[0m\u001b[1;33m\u001b[0m\u001b[1;33m\u001b[0m\u001b[0m\n\u001b[1;32m----> 2\u001b[1;33m \u001b[0mcoeff_df\u001b[0m \u001b[1;33m=\u001b[0m \u001b[0mpd\u001b[0m\u001b[1;33m.\u001b[0m\u001b[0mDataFrame\u001b[0m\u001b[1;33m(\u001b[0m\u001b[0mlm\u001b[0m\u001b[1;33m.\u001b[0m\u001b[0mcoef_\u001b[0m\u001b[1;33m,\u001b[0m\u001b[0mboston\u001b[0m\u001b[1;33m[\u001b[0m\u001b[1;34m'data'\u001b[0m\u001b[1;33m]\u001b[0m\u001b[1;33m.\u001b[0m\u001b[0mcolumns\u001b[0m\u001b[1;33m,\u001b[0m\u001b[0mcolumns\u001b[0m\u001b[1;33m=\u001b[0m\u001b[1;33m[\u001b[0m\u001b[1;34m'Coefficient'\u001b[0m\u001b[1;33m]\u001b[0m\u001b[1;33m)\u001b[0m\u001b[1;33m\u001b[0m\u001b[1;33m\u001b[0m\u001b[0m\n\u001b[0m\u001b[0;32m      3\u001b[0m \u001b[0mcoeff_df\u001b[0m\u001b[1;33m\u001b[0m\u001b[1;33m\u001b[0m\u001b[0m\n",
      "\u001b[1;31mAttributeError\u001b[0m: 'numpy.ndarray' object has no attribute 'columns'"
     ]
    }
   ],
   "source": [
    "print(lm.intercept_) \n",
    "coeff_df = pd.DataFrame(lm.coef_,boston['data'].columns,columns=['Coefficient'])\n",
    "coeff_df"
   ]
  },
  {
   "cell_type": "code",
   "execution_count": null,
   "metadata": {},
   "outputs": [
    {
     "data": {
      "text/plain": [
       "array([25.48882634, 26.85383326, 26.50113697, 16.8311552 , 38.90548232,\n",
       "       15.92640789, 19.23152198, 29.28806615, 33.79428877, 38.25894258,\n",
       "       16.19079976, 27.79685578, 25.35181876, 25.61234607, 21.35214307,\n",
       "       19.1221877 , 31.34939126, 31.18316962, 29.08034579, 28.90724661,\n",
       "       19.59636559, 17.90783181, 24.98877865, 24.00154542, 13.56628155,\n",
       "       22.08791583, 32.99232593, 28.36965015, 29.65108026, 39.94060342,\n",
       "       18.66689308, 14.92285788, 19.6923896 , 19.20029267, 20.14718966,\n",
       "       37.91700834, 24.21072339, 30.86942899, 13.24009483, 36.42525089,\n",
       "        8.97985188, 13.88836303, 11.78208526, 19.61208754, 36.32061974,\n",
       "       20.01573887, 11.5591671 , 21.66102362, 13.54102458, 39.34825195,\n",
       "       22.51984897,  2.71613802, 17.75797283, 18.44448789, 24.04115464,\n",
       "       32.92544769,  5.97982079, 21.7327963 , 17.46853879, 22.60218768,\n",
       "       17.64957037, 21.74406196, 21.65178897, 43.91766166, 30.82382874,\n",
       "       29.34034013, 21.19730767, 16.86447485, 31.17198257, 13.38789137,\n",
       "       21.04665845, 10.73989413, 22.25626123, 19.37889966, 14.90297125,\n",
       "       14.01634712, 16.63547317, 23.25600193, 13.48931776, 31.78526926,\n",
       "       22.57091258, 25.56311371, 25.3775143 , 11.24611913, 23.00639832,\n",
       "       21.19488764, 36.43577436, 41.16763966, 28.41321642, 15.4805533 ,\n",
       "       15.66739185, 20.42356791, 21.32063937, 19.23125819, 24.18336381,\n",
       "       13.8800213 , 43.26147345, 17.76871197, 27.58685059, 25.14931017,\n",
       "       18.56550814, 23.33807072, 30.81840361, 40.74623933, 18.39440993,\n",
       "       19.93147289, 32.71059201, 22.87078632, 21.23823679, 19.02822065,\n",
       "       24.16318227, 20.12778704, 31.00808081, 19.48057058, 24.3933734 ,\n",
       "       26.19766886, 11.32306597, 21.08383617, 25.59691408, 21.22083685,\n",
       "       22.05322131, 18.11579217, 19.58275035, 25.4236033 ,  9.10421973,\n",
       "       26.73193473, 16.01651126, 21.017697  , 28.93758193, 18.72519512,\n",
       "       29.16139181, 21.08698098, -0.28258443, 20.93681941, 17.72092419,\n",
       "       18.46122945, 21.73002663, 15.63834526, 22.73308674, 36.96649217,\n",
       "       14.33393602, 31.65616387, 36.51660994,  6.37051369, 23.19230286,\n",
       "       33.63376107, 30.93239078, 25.09940808,  6.19167798,  7.63702422,\n",
       "       34.09581693, 34.4375345 ])"
      ]
     },
     "execution_count": 355,
     "metadata": {},
     "output_type": "execute_result"
    }
   ],
   "source": [
    "predictions = lm.predict(X_test)\n",
    "predictions"
   ]
  },
  {
   "cell_type": "code",
   "execution_count": null,
   "metadata": {},
   "outputs": [
    {
     "data": {
      "text/plain": [
       "array([23.2, 22.1, 20.6, 17.8, 41.7, 17.2, 20.5, 31.2, 32. , 37.6, 13.3,\n",
       "       24.5, 19.4, 23.8, 21. , 15.6, 37. , 23.6, 23.6, 22.8, 19.9, 23.2,\n",
       "       24.6, 23.4, 17.2, 26.4, 37.2, 24.4, 25. , 21.9, 12.7, 14.1, 27.5,\n",
       "       18.8, 27.9, 48.3, 25. , 32.5, 13.5, 36. , 17.8, 11.3, 15.6, 18.2,\n",
       "       50. , 20. , 13.1, 19.3, 10.5, 43.5, 20.6,  8.8, 18.1, 14.2, 19.2,\n",
       "       27.5,  7.4, 19.3, 22.5, 21.4, 19.6, 20.7, 24.1, 50. , 25.1, 24.1,\n",
       "       13.1,  8.5, 24.8, 11. , 17.7, 13.8, 19.8, 16.1, 17.3, 13.3, 10.4,\n",
       "       19.4, 12.3, 27.9, 23.1, 18.5, 30.1, 16.3, 25. , 19. , 33.2, 50. ,\n",
       "       24.3, 13.4, 20.2, 18.3, 16.7, 18.5, 21.9, 14. , 50. , 18.6, 22. ,\n",
       "       23.8, 13.9, 19.8, 29.4, 50. , 16. , 20.4, 29.8, 24.7, 13.3, 12.1,\n",
       "       23. , 12.5, 30.7, 22.2, 29.6, 24.8, 12.7, 19.6, 21.6, 21.7, 22.5,\n",
       "       19.9, 18.4, 27.5, 23.1, 15. , 18.4, 18.8, 22. ,  7.2, 24.6, 20.9,\n",
       "       17.9, 19.7, 16.1, 20.8, 23.8, 16.6, 21.7, 50. , 15.6, 29.9, 33.3,\n",
       "       10.5, 16.5, 31.7, 34.7, 28.1, 13.8,  8.7, 35.4, 31. ])"
      ]
     },
     "execution_count": 356,
     "metadata": {},
     "output_type": "execute_result"
    }
   ],
   "source": [
    "Real_Values = np.array(y_test)\n",
    "Real_Values"
   ]
  },
  {
   "cell_type": "code",
   "execution_count": null,
   "metadata": {},
   "outputs": [
    {
     "data": {
      "text/plain": [
       "<matplotlib.collections.PathCollection at 0x1f4f6ac9640>"
      ]
     },
     "execution_count": 360,
     "metadata": {},
     "output_type": "execute_result"
    },
    {
     "data": {
      "image/png": "[encoded data removed]",
      "text/plain": [
       "<Figure size 640x480 with 1 Axes>"
      ]
     },
     "metadata": {},
     "output_type": "display_data"
    }
   ],
   "source": [
    "plt.scatter(Real_Values,predictions)"
   ]
  },
  {
   "cell_type": "code",
   "execution_count": null,
   "metadata": {},
   "outputs": [],
   "source": []
  },
  {
   "cell_type": "markdown",
   "metadata": {},
   "source": [
    "## Residual Histogram"
   ]
  },
  {
   "cell_type": "code",
   "execution_count": null,
   "metadata": {},
   "outputs": [
    {
     "data": {
      "text/plain": [
       "<AxesSubplot:ylabel='Density'>"
      ]
     },
     "execution_count": 359,
     "metadata": {},
     "output_type": "execute_result"
    },
    {
     "data": {
      "image/png": "[encoded data removed]",
      "text/plain": [
       "<Figure size 640x480 with 1 Axes>"
      ]
     },
     "metadata": {},
     "output_type": "display_data"
    }
   ],
   "source": [
    "sns.distplot((y_test-predictions),bins=50)"
   ]
  },
  {
   "cell_type": "markdown",
   "metadata": {},
   "source": [
    "## Q11: Use evaluation metrics MAE, MSE, RMSE and R^2."
   ]
  },
  {
   "cell_type": "code",
   "execution_count": null,
   "metadata": {},
   "outputs": [],
   "source": [
    "from sklearn import metrics"
   ]
  },
  {
   "cell_type": "code",
   "execution_count": 402,
   "metadata": {},
   "outputs": [
    {
     "name": "stdout",
     "output_type": "stream",
     "text": [
      "MAE: 3.782429511205032\n",
      "MSE: 25.35857719400701\n",
      "RMSE: 5.035730055712579\n"
     ]
    }
   ],
   "source": [
    "print('MAE:', metrics.mean_absolute_error(y_test, predictions))\n",
    "print('MSE:', metrics.mean_squared_error(y_test, predictions))\n",
    "print('RMSE:', np.sqrt(metrics.mean_squared_error(y_test, predictions)))"
   ]
  },
  {
   "cell_type": "code",
   "execution_count": null,
   "metadata": {},
   "outputs": [],
   "source": []
  }
 ],
 "metadata": {
  "kernelspec": {
   "display_name": "base",
   "language": "python",
   "name": "python3"
  },
  "language_info": {
   "codemirror_mode": {
    "name": "ipython",
    "version": 3
   },
   "file_extension": ".py",
   "mimetype": "text/x-python",
   "name": "python",
   "nbconvert_exporter": "python",
   "pygments_lexer": "ipython3",
   "version": "3.9.15"
  },
  "vscode": {
   "interpreter": {
    "hash": "9d1ee27924a574a3d650ae04a070effa1b0fc7d69e3a2c2763f7ef69e236cbdd"
   }
  }
 },
 "nbformat": 4,
 "nbformat_minor": 1
}
